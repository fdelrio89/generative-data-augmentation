{
  "nbformat": 4,
  "nbformat_minor": 0,
  "metadata": {
    "colab": {
      "provenance": []
    },
    "kernelspec": {
      "name": "python3",
      "display_name": "Python 3"
    },
    "language_info": {
      "name": "python"
    }
  },
  "cells": [
    {
      "cell_type": "code",
      "source": [
        "!pip install datasets spacy"
      ],
      "metadata": {
        "id": "qIj0JJ9FhGL_",
        "colab": {
          "base_uri": "https://localhost:8080/"
        },
        "outputId": "81294a42-dded-4740-eb5e-cdd633ae61cb"
      },
      "execution_count": null,
      "outputs": [
        {
          "output_type": "stream",
          "name": "stdout",
          "text": [
            "Looking in indexes: https://pypi.org/simple, https://us-python.pkg.dev/colab-wheels/public/simple/\n",
            "Collecting datasets\n",
            "  Downloading datasets-2.8.0-py3-none-any.whl (452 kB)\n",
            "\u001b[2K     \u001b[90m━━━━━━━━━━━━━━━━━━━━━━━━━━━━━━━━━━━━━━━\u001b[0m \u001b[32m452.9/452.9 KB\u001b[0m \u001b[31m5.2 MB/s\u001b[0m eta \u001b[36m0:00:00\u001b[0m\n",
            "\u001b[?25hRequirement already satisfied: spacy in /usr/local/lib/python3.8/dist-packages (3.4.4)\n",
            "Requirement already satisfied: requests>=2.19.0 in /usr/local/lib/python3.8/dist-packages (from datasets) (2.25.1)\n",
            "Requirement already satisfied: pandas in /usr/local/lib/python3.8/dist-packages (from datasets) (1.3.5)\n",
            "Requirement already satisfied: numpy>=1.17 in /usr/local/lib/python3.8/dist-packages (from datasets) (1.21.6)\n",
            "Requirement already satisfied: pyarrow>=6.0.0 in /usr/local/lib/python3.8/dist-packages (from datasets) (9.0.0)\n",
            "Requirement already satisfied: dill<0.3.7 in /usr/local/lib/python3.8/dist-packages (from datasets) (0.3.6)\n",
            "Collecting xxhash\n",
            "  Downloading xxhash-3.2.0-cp38-cp38-manylinux_2_17_x86_64.manylinux2014_x86_64.whl (213 kB)\n",
            "\u001b[2K     \u001b[90m━━━━━━━━━━━━━━━━━━━━━━━━━━━━━━━━━━━━━━━\u001b[0m \u001b[32m213.0/213.0 KB\u001b[0m \u001b[31m5.6 MB/s\u001b[0m eta \u001b[36m0:00:00\u001b[0m\n",
            "\u001b[?25hCollecting multiprocess\n",
            "  Downloading multiprocess-0.70.14-py38-none-any.whl (132 kB)\n",
            "\u001b[2K     \u001b[90m━━━━━━━━━━━━━━━━━━━━━━━━━━━━━━━━━━━━━━━\u001b[0m \u001b[32m132.0/132.0 KB\u001b[0m \u001b[31m7.4 MB/s\u001b[0m eta \u001b[36m0:00:00\u001b[0m\n",
            "\u001b[?25hRequirement already satisfied: fsspec[http]>=2021.11.1 in /usr/local/lib/python3.8/dist-packages (from datasets) (2022.11.0)\n",
            "Requirement already satisfied: packaging in /usr/local/lib/python3.8/dist-packages (from datasets) (21.3)\n",
            "Requirement already satisfied: pyyaml>=5.1 in /usr/local/lib/python3.8/dist-packages (from datasets) (6.0)\n",
            "Collecting huggingface-hub<1.0.0,>=0.2.0\n",
            "  Downloading huggingface_hub-0.11.1-py3-none-any.whl (182 kB)\n",
            "\u001b[2K     \u001b[90m━━━━━━━━━━━━━━━━━━━━━━━━━━━━━━━━━━━━━━━\u001b[0m \u001b[32m182.4/182.4 KB\u001b[0m \u001b[31m7.8 MB/s\u001b[0m eta \u001b[36m0:00:00\u001b[0m\n",
            "\u001b[?25hRequirement already satisfied: aiohttp in /usr/local/lib/python3.8/dist-packages (from datasets) (3.8.3)\n",
            "Requirement already satisfied: tqdm>=4.62.1 in /usr/local/lib/python3.8/dist-packages (from datasets) (4.64.1)\n",
            "Collecting responses<0.19\n",
            "  Downloading responses-0.18.0-py3-none-any.whl (38 kB)\n",
            "Requirement already satisfied: spacy-legacy<3.1.0,>=3.0.10 in /usr/local/lib/python3.8/dist-packages (from spacy) (3.0.11)\n",
            "Requirement already satisfied: preshed<3.1.0,>=3.0.2 in /usr/local/lib/python3.8/dist-packages (from spacy) (3.0.8)\n",
            "Requirement already satisfied: cymem<2.1.0,>=2.0.2 in /usr/local/lib/python3.8/dist-packages (from spacy) (2.0.7)\n",
            "Requirement already satisfied: smart-open<7.0.0,>=5.2.1 in /usr/local/lib/python3.8/dist-packages (from spacy) (6.3.0)\n",
            "Requirement already satisfied: pathy>=0.3.5 in /usr/local/lib/python3.8/dist-packages (from spacy) (0.10.1)\n",
            "Requirement already satisfied: murmurhash<1.1.0,>=0.28.0 in /usr/local/lib/python3.8/dist-packages (from spacy) (1.0.9)\n",
            "Requirement already satisfied: thinc<8.2.0,>=8.1.0 in /usr/local/lib/python3.8/dist-packages (from spacy) (8.1.6)\n",
            "Requirement already satisfied: catalogue<2.1.0,>=2.0.6 in /usr/local/lib/python3.8/dist-packages (from spacy) (2.0.8)\n",
            "Requirement already satisfied: spacy-loggers<2.0.0,>=1.0.0 in /usr/local/lib/python3.8/dist-packages (from spacy) (1.0.4)\n",
            "Requirement already satisfied: wasabi<1.1.0,>=0.9.1 in /usr/local/lib/python3.8/dist-packages (from spacy) (0.10.1)\n",
            "Requirement already satisfied: jinja2 in /usr/local/lib/python3.8/dist-packages (from spacy) (2.11.3)\n",
            "Requirement already satisfied: typer<0.8.0,>=0.3.0 in /usr/local/lib/python3.8/dist-packages (from spacy) (0.7.0)\n",
            "Requirement already satisfied: srsly<3.0.0,>=2.4.3 in /usr/local/lib/python3.8/dist-packages (from spacy) (2.4.5)\n",
            "Requirement already satisfied: langcodes<4.0.0,>=3.2.0 in /usr/local/lib/python3.8/dist-packages (from spacy) (3.3.0)\n",
            "Requirement already satisfied: pydantic!=1.8,!=1.8.1,<1.11.0,>=1.7.4 in /usr/local/lib/python3.8/dist-packages (from spacy) (1.10.4)\n",
            "Requirement already satisfied: setuptools in /usr/local/lib/python3.8/dist-packages (from spacy) (57.4.0)\n",
            "Requirement already satisfied: async-timeout<5.0,>=4.0.0a3 in /usr/local/lib/python3.8/dist-packages (from aiohttp->datasets) (4.0.2)\n",
            "Requirement already satisfied: aiosignal>=1.1.2 in /usr/local/lib/python3.8/dist-packages (from aiohttp->datasets) (1.3.1)\n",
            "Requirement already satisfied: yarl<2.0,>=1.0 in /usr/local/lib/python3.8/dist-packages (from aiohttp->datasets) (1.8.2)\n",
            "Requirement already satisfied: frozenlist>=1.1.1 in /usr/local/lib/python3.8/dist-packages (from aiohttp->datasets) (1.3.3)\n",
            "Requirement already satisfied: charset-normalizer<3.0,>=2.0 in /usr/local/lib/python3.8/dist-packages (from aiohttp->datasets) (2.1.1)\n",
            "Requirement already satisfied: attrs>=17.3.0 in /usr/local/lib/python3.8/dist-packages (from aiohttp->datasets) (22.2.0)\n",
            "Requirement already satisfied: multidict<7.0,>=4.5 in /usr/local/lib/python3.8/dist-packages (from aiohttp->datasets) (6.0.4)\n",
            "Requirement already satisfied: typing-extensions>=3.7.4.3 in /usr/local/lib/python3.8/dist-packages (from huggingface-hub<1.0.0,>=0.2.0->datasets) (4.4.0)\n",
            "Requirement already satisfied: filelock in /usr/local/lib/python3.8/dist-packages (from huggingface-hub<1.0.0,>=0.2.0->datasets) (3.9.0)\n",
            "Requirement already satisfied: pyparsing!=3.0.5,>=2.0.2 in /usr/local/lib/python3.8/dist-packages (from packaging->datasets) (3.0.9)\n",
            "Requirement already satisfied: idna<3,>=2.5 in /usr/local/lib/python3.8/dist-packages (from requests>=2.19.0->datasets) (2.10)\n",
            "Requirement already satisfied: certifi>=2017.4.17 in /usr/local/lib/python3.8/dist-packages (from requests>=2.19.0->datasets) (2022.12.7)\n",
            "Requirement already satisfied: urllib3<1.27,>=1.21.1 in /usr/local/lib/python3.8/dist-packages (from requests>=2.19.0->datasets) (1.24.3)\n",
            "Requirement already satisfied: chardet<5,>=3.0.2 in /usr/local/lib/python3.8/dist-packages (from requests>=2.19.0->datasets) (4.0.0)\n",
            "Collecting urllib3<1.27,>=1.21.1\n",
            "  Downloading urllib3-1.26.14-py2.py3-none-any.whl (140 kB)\n",
            "\u001b[2K     \u001b[90m━━━━━━━━━━━━━━━━━━━━━━━━━━━━━━━━━━━━━━━\u001b[0m \u001b[32m140.6/140.6 KB\u001b[0m \u001b[31m9.4 MB/s\u001b[0m eta \u001b[36m0:00:00\u001b[0m\n",
            "\u001b[?25hRequirement already satisfied: blis<0.8.0,>=0.7.8 in /usr/local/lib/python3.8/dist-packages (from thinc<8.2.0,>=8.1.0->spacy) (0.7.9)\n",
            "Requirement already satisfied: confection<1.0.0,>=0.0.1 in /usr/local/lib/python3.8/dist-packages (from thinc<8.2.0,>=8.1.0->spacy) (0.0.3)\n",
            "Requirement already satisfied: click<9.0.0,>=7.1.1 in /usr/local/lib/python3.8/dist-packages (from typer<0.8.0,>=0.3.0->spacy) (7.1.2)\n",
            "Requirement already satisfied: MarkupSafe>=0.23 in /usr/local/lib/python3.8/dist-packages (from jinja2->spacy) (2.0.1)\n",
            "Requirement already satisfied: python-dateutil>=2.7.3 in /usr/local/lib/python3.8/dist-packages (from pandas->datasets) (2.8.2)\n",
            "Requirement already satisfied: pytz>=2017.3 in /usr/local/lib/python3.8/dist-packages (from pandas->datasets) (2022.7)\n",
            "Requirement already satisfied: six>=1.5 in /usr/local/lib/python3.8/dist-packages (from python-dateutil>=2.7.3->pandas->datasets) (1.15.0)\n",
            "Installing collected packages: xxhash, urllib3, multiprocess, responses, huggingface-hub, datasets\n",
            "  Attempting uninstall: urllib3\n",
            "    Found existing installation: urllib3 1.24.3\n",
            "    Uninstalling urllib3-1.24.3:\n",
            "      Successfully uninstalled urllib3-1.24.3\n",
            "Successfully installed datasets-2.8.0 huggingface-hub-0.11.1 multiprocess-0.70.14 responses-0.18.0 urllib3-1.26.14 xxhash-3.2.0\n"
          ]
        }
      ]
    },
    {
      "cell_type": "code",
      "source": [
        "import os \n",
        "import pandas as pd \n",
        "import numpy as np\n",
        "from tqdm import tqdm\n",
        "from google.colab import files"
      ],
      "metadata": {
        "id": "-ndVS8W7rfEG"
      },
      "execution_count": null,
      "outputs": []
    },
    {
      "cell_type": "code",
      "source": [
        "!wget https://cs.stanford.edu/people/karpathy/deepimagesent/caption_datasets.zip"
      ],
      "metadata": {
        "colab": {
          "base_uri": "https://localhost:8080/",
          "height": 219
        },
        "id": "QzXHK1bVypRA",
        "outputId": "862f79a9-9e4c-435e-f01a-b6b532ba293e"
      },
      "execution_count": null,
      "outputs": [
        {
          "output_type": "stream",
          "name": "stdout",
          "text": [
            "--2023-01-15 23:10:47--  https://cs.stanford.edu/people/karpathy/deepimagesent/caption_datasets.zip\n",
            "Resolving cs.stanford.edu (cs.stanford.edu)... 171.64.64.64\n",
            "Connecting to cs.stanford.edu (cs.stanford.edu)|171.64.64.64|:443... connected.\n",
            "HTTP request sent, awaiting response... 200 OK\n",
            "Length: 36745453 (35M) [application/zip]\n",
            "Saving to: ‘caption_datasets.zip’\n",
            "\n",
            "caption_datasets.zi 100%[===================>]  35.04M  14.8MB/s    in 2.4s    \n",
            "\n",
            "2023-01-15 23:10:50 (14.8 MB/s) - ‘caption_datasets.zip’ saved [36745453/36745453]\n",
            "\n"
          ]
        }
      ]
    },
    {
      "cell_type": "code",
      "source": [
        "!unzip caption_datasets.zip -d caption_datasets"
      ],
      "metadata": {
        "colab": {
          "base_uri": "https://localhost:8080/"
        },
        "id": "VMEtt9kPzBOx",
        "outputId": "ab5ede29-44c4-4c64-d469-02e9e5ad7538"
      },
      "execution_count": null,
      "outputs": [
        {
          "output_type": "stream",
          "name": "stdout",
          "text": [
            "Archive:  caption_datasets.zip\n",
            "  inflating: caption_datasets/dataset_coco.json  \n",
            "  inflating: caption_datasets/dataset_flickr30k.json  \n",
            "  inflating: caption_datasets/dataset_flickr8k.json  \n"
          ]
        }
      ]
    },
    {
      "cell_type": "code",
      "source": [
        "dfjson = pd.read_json('./caption_datasets/dataset_flickr30k.json')\n",
        "\n",
        "list_df = [('image_ID', 'caption_ID', 'caption', 'split')]\n",
        "\n",
        "for k_img in range(len(dfjson['images'])):\n",
        "    dict_img = dfjson['images'][k_img]\n",
        "    imgid = dict_img['filename'].split('.')[0]\n",
        "    split = dict_img['split']\n",
        "    text = dict_img['sentences']\n",
        "    # for each caption\n",
        "    for capt in text:\n",
        "        # IID, CID, caption, split\n",
        "        list_df.append((imgid, capt['sentid'], capt['raw'], split))\n",
        "        \n",
        "df = pd.DataFrame(list_df[1:], columns=list_df[0])#.set_index(['IID', 'CID'])\n",
        "df"
      ],
      "metadata": {
        "colab": {
          "base_uri": "https://localhost:8080/",
          "height": 424
        },
        "id": "8H4w5ICuzIGJ",
        "outputId": "47857df3-3038-47c6-daf5-9e498c9f8fa5"
      },
      "execution_count": null,
      "outputs": [
        {
          "output_type": "execute_result",
          "data": {
            "text/plain": [
              "          image_ID  caption_ID  \\\n",
              "0       1000092795           0   \n",
              "1       1000092795           1   \n",
              "2       1000092795           2   \n",
              "3       1000092795           3   \n",
              "4       1000092795           4   \n",
              "...            ...         ...   \n",
              "155065   998845445      155065   \n",
              "155066   998845445      155066   \n",
              "155067   998845445      155067   \n",
              "155068   998845445      155068   \n",
              "155069   998845445      155069   \n",
              "\n",
              "                                                  caption  split  \n",
              "0       Two young guys with shaggy hair look at their ...  train  \n",
              "1       Two young, White males are outside near many b...  train  \n",
              "2         Two men in green shirts are standing in a yard.  train  \n",
              "3             A man in a blue shirt standing in a garden.  train  \n",
              "4                  Two friends enjoy time spent together.  train  \n",
              "...                                                   ...    ...  \n",
              "155065  A man in shorts and a Hawaiian shirt leans ove...  train  \n",
              "155066  A young man hanging over the side of a boat, w...  train  \n",
              "155067  A man is leaning off of the side of a blue and...  train  \n",
              "155068  A man riding a small boat in a harbor, with fo...  train  \n",
              "155069  A man on a moored blue and white boat with hil...  train  \n",
              "\n",
              "[155070 rows x 4 columns]"
            ],
            "text/html": [
              "\n",
              "  <div id=\"df-40768e6f-cba7-4147-865c-93769803e4a3\">\n",
              "    <div class=\"colab-df-container\">\n",
              "      <div>\n",
              "<style scoped>\n",
              "    .dataframe tbody tr th:only-of-type {\n",
              "        vertical-align: middle;\n",
              "    }\n",
              "\n",
              "    .dataframe tbody tr th {\n",
              "        vertical-align: top;\n",
              "    }\n",
              "\n",
              "    .dataframe thead th {\n",
              "        text-align: right;\n",
              "    }\n",
              "</style>\n",
              "<table border=\"1\" class=\"dataframe\">\n",
              "  <thead>\n",
              "    <tr style=\"text-align: right;\">\n",
              "      <th></th>\n",
              "      <th>image_ID</th>\n",
              "      <th>caption_ID</th>\n",
              "      <th>caption</th>\n",
              "      <th>split</th>\n",
              "    </tr>\n",
              "  </thead>\n",
              "  <tbody>\n",
              "    <tr>\n",
              "      <th>0</th>\n",
              "      <td>1000092795</td>\n",
              "      <td>0</td>\n",
              "      <td>Two young guys with shaggy hair look at their ...</td>\n",
              "      <td>train</td>\n",
              "    </tr>\n",
              "    <tr>\n",
              "      <th>1</th>\n",
              "      <td>1000092795</td>\n",
              "      <td>1</td>\n",
              "      <td>Two young, White males are outside near many b...</td>\n",
              "      <td>train</td>\n",
              "    </tr>\n",
              "    <tr>\n",
              "      <th>2</th>\n",
              "      <td>1000092795</td>\n",
              "      <td>2</td>\n",
              "      <td>Two men in green shirts are standing in a yard.</td>\n",
              "      <td>train</td>\n",
              "    </tr>\n",
              "    <tr>\n",
              "      <th>3</th>\n",
              "      <td>1000092795</td>\n",
              "      <td>3</td>\n",
              "      <td>A man in a blue shirt standing in a garden.</td>\n",
              "      <td>train</td>\n",
              "    </tr>\n",
              "    <tr>\n",
              "      <th>4</th>\n",
              "      <td>1000092795</td>\n",
              "      <td>4</td>\n",
              "      <td>Two friends enjoy time spent together.</td>\n",
              "      <td>train</td>\n",
              "    </tr>\n",
              "    <tr>\n",
              "      <th>...</th>\n",
              "      <td>...</td>\n",
              "      <td>...</td>\n",
              "      <td>...</td>\n",
              "      <td>...</td>\n",
              "    </tr>\n",
              "    <tr>\n",
              "      <th>155065</th>\n",
              "      <td>998845445</td>\n",
              "      <td>155065</td>\n",
              "      <td>A man in shorts and a Hawaiian shirt leans ove...</td>\n",
              "      <td>train</td>\n",
              "    </tr>\n",
              "    <tr>\n",
              "      <th>155066</th>\n",
              "      <td>998845445</td>\n",
              "      <td>155066</td>\n",
              "      <td>A young man hanging over the side of a boat, w...</td>\n",
              "      <td>train</td>\n",
              "    </tr>\n",
              "    <tr>\n",
              "      <th>155067</th>\n",
              "      <td>998845445</td>\n",
              "      <td>155067</td>\n",
              "      <td>A man is leaning off of the side of a blue and...</td>\n",
              "      <td>train</td>\n",
              "    </tr>\n",
              "    <tr>\n",
              "      <th>155068</th>\n",
              "      <td>998845445</td>\n",
              "      <td>155068</td>\n",
              "      <td>A man riding a small boat in a harbor, with fo...</td>\n",
              "      <td>train</td>\n",
              "    </tr>\n",
              "    <tr>\n",
              "      <th>155069</th>\n",
              "      <td>998845445</td>\n",
              "      <td>155069</td>\n",
              "      <td>A man on a moored blue and white boat with hil...</td>\n",
              "      <td>train</td>\n",
              "    </tr>\n",
              "  </tbody>\n",
              "</table>\n",
              "<p>155070 rows × 4 columns</p>\n",
              "</div>\n",
              "      <button class=\"colab-df-convert\" onclick=\"convertToInteractive('df-40768e6f-cba7-4147-865c-93769803e4a3')\"\n",
              "              title=\"Convert this dataframe to an interactive table.\"\n",
              "              style=\"display:none;\">\n",
              "        \n",
              "  <svg xmlns=\"http://www.w3.org/2000/svg\" height=\"24px\"viewBox=\"0 0 24 24\"\n",
              "       width=\"24px\">\n",
              "    <path d=\"M0 0h24v24H0V0z\" fill=\"none\"/>\n",
              "    <path d=\"M18.56 5.44l.94 2.06.94-2.06 2.06-.94-2.06-.94-.94-2.06-.94 2.06-2.06.94zm-11 1L8.5 8.5l.94-2.06 2.06-.94-2.06-.94L8.5 2.5l-.94 2.06-2.06.94zm10 10l.94 2.06.94-2.06 2.06-.94-2.06-.94-.94-2.06-.94 2.06-2.06.94z\"/><path d=\"M17.41 7.96l-1.37-1.37c-.4-.4-.92-.59-1.43-.59-.52 0-1.04.2-1.43.59L10.3 9.45l-7.72 7.72c-.78.78-.78 2.05 0 2.83L4 21.41c.39.39.9.59 1.41.59.51 0 1.02-.2 1.41-.59l7.78-7.78 2.81-2.81c.8-.78.8-2.07 0-2.86zM5.41 20L4 18.59l7.72-7.72 1.47 1.35L5.41 20z\"/>\n",
              "  </svg>\n",
              "      </button>\n",
              "      \n",
              "  <style>\n",
              "    .colab-df-container {\n",
              "      display:flex;\n",
              "      flex-wrap:wrap;\n",
              "      gap: 12px;\n",
              "    }\n",
              "\n",
              "    .colab-df-convert {\n",
              "      background-color: #E8F0FE;\n",
              "      border: none;\n",
              "      border-radius: 50%;\n",
              "      cursor: pointer;\n",
              "      display: none;\n",
              "      fill: #1967D2;\n",
              "      height: 32px;\n",
              "      padding: 0 0 0 0;\n",
              "      width: 32px;\n",
              "    }\n",
              "\n",
              "    .colab-df-convert:hover {\n",
              "      background-color: #E2EBFA;\n",
              "      box-shadow: 0px 1px 2px rgba(60, 64, 67, 0.3), 0px 1px 3px 1px rgba(60, 64, 67, 0.15);\n",
              "      fill: #174EA6;\n",
              "    }\n",
              "\n",
              "    [theme=dark] .colab-df-convert {\n",
              "      background-color: #3B4455;\n",
              "      fill: #D2E3FC;\n",
              "    }\n",
              "\n",
              "    [theme=dark] .colab-df-convert:hover {\n",
              "      background-color: #434B5C;\n",
              "      box-shadow: 0px 1px 3px 1px rgba(0, 0, 0, 0.15);\n",
              "      filter: drop-shadow(0px 1px 2px rgba(0, 0, 0, 0.3));\n",
              "      fill: #FFFFFF;\n",
              "    }\n",
              "  </style>\n",
              "\n",
              "      <script>\n",
              "        const buttonEl =\n",
              "          document.querySelector('#df-40768e6f-cba7-4147-865c-93769803e4a3 button.colab-df-convert');\n",
              "        buttonEl.style.display =\n",
              "          google.colab.kernel.accessAllowed ? 'block' : 'none';\n",
              "\n",
              "        async function convertToInteractive(key) {\n",
              "          const element = document.querySelector('#df-40768e6f-cba7-4147-865c-93769803e4a3');\n",
              "          const dataTable =\n",
              "            await google.colab.kernel.invokeFunction('convertToInteractive',\n",
              "                                                     [key], {});\n",
              "          if (!dataTable) return;\n",
              "\n",
              "          const docLinkHtml = 'Like what you see? Visit the ' +\n",
              "            '<a target=\"_blank\" href=https://colab.research.google.com/notebooks/data_table.ipynb>data table notebook</a>'\n",
              "            + ' to learn more about interactive tables.';\n",
              "          element.innerHTML = '';\n",
              "          dataTable['output_type'] = 'display_data';\n",
              "          await google.colab.output.renderOutput(dataTable, element);\n",
              "          const docLink = document.createElement('div');\n",
              "          docLink.innerHTML = docLinkHtml;\n",
              "          element.appendChild(docLink);\n",
              "        }\n",
              "      </script>\n",
              "    </div>\n",
              "  </div>\n",
              "  "
            ]
          },
          "metadata": {},
          "execution_count": 28
        }
      ]
    },
    {
      "cell_type": "code",
      "source": [
        "df.to_csv('Caption_all.tsv', sep='\\t', index=False)\n",
        "files.download('Caption_all.tsv')"
      ],
      "metadata": {
        "colab": {
          "base_uri": "https://localhost:8080/",
          "height": 17
        },
        "id": "lQbh2rUP-Pad",
        "outputId": "0b8faf9f-750a-49e8-cad5-4293dbf27742"
      },
      "execution_count": null,
      "outputs": [
        {
          "output_type": "display_data",
          "data": {
            "text/plain": [
              "<IPython.core.display.Javascript object>"
            ],
            "application/javascript": [
              "\n",
              "    async function download(id, filename, size) {\n",
              "      if (!google.colab.kernel.accessAllowed) {\n",
              "        return;\n",
              "      }\n",
              "      const div = document.createElement('div');\n",
              "      const label = document.createElement('label');\n",
              "      label.textContent = `Downloading \"${filename}\": `;\n",
              "      div.appendChild(label);\n",
              "      const progress = document.createElement('progress');\n",
              "      progress.max = size;\n",
              "      div.appendChild(progress);\n",
              "      document.body.appendChild(div);\n",
              "\n",
              "      const buffers = [];\n",
              "      let downloaded = 0;\n",
              "\n",
              "      const channel = await google.colab.kernel.comms.open(id);\n",
              "      // Send a message to notify the kernel that we're ready.\n",
              "      channel.send({})\n",
              "\n",
              "      for await (const message of channel.messages) {\n",
              "        // Send a message to notify the kernel that we're ready.\n",
              "        channel.send({})\n",
              "        if (message.buffers) {\n",
              "          for (const buffer of message.buffers) {\n",
              "            buffers.push(buffer);\n",
              "            downloaded += buffer.byteLength;\n",
              "            progress.value = downloaded;\n",
              "          }\n",
              "        }\n",
              "      }\n",
              "      const blob = new Blob(buffers, {type: 'application/binary'});\n",
              "      const a = document.createElement('a');\n",
              "      a.href = window.URL.createObjectURL(blob);\n",
              "      a.download = filename;\n",
              "      div.appendChild(a);\n",
              "      a.click();\n",
              "      div.remove();\n",
              "    }\n",
              "  "
            ]
          },
          "metadata": {}
        },
        {
          "output_type": "display_data",
          "data": {
            "text/plain": [
              "<IPython.core.display.Javascript object>"
            ],
            "application/javascript": [
              "download(\"download_91c48b9c-d7bf-4dc8-a2e6-9f1b7e740b38\", \"Caption_all.tsv\", 13515838)"
            ]
          },
          "metadata": {}
        }
      ]
    },
    {
      "cell_type": "markdown",
      "source": [
        "# Skills"
      ],
      "metadata": {
        "id": "Ku71YKzJrxl4"
      }
    },
    {
      "cell_type": "code",
      "source": [
        "from skillschecker import skillsChecker"
      ],
      "metadata": {
        "id": "_gFHkD-KCu_F"
      },
      "execution_count": null,
      "outputs": []
    },
    {
      "cell_type": "code",
      "source": [
        "checker = skillsChecker()\n",
        "list_captions = df.caption.values\n",
        "dft = df[df.split == 'train']\n",
        "skill = 'gender'"
      ],
      "metadata": {
        "id": "_y61psihzNxe"
      },
      "execution_count": null,
      "outputs": []
    },
    {
      "cell_type": "code",
      "source": [
        "list_tuple_new_captions, wds = checker.change_captions_skill(list_captions=dft.caption, skill=skill, verbose=True)"
      ],
      "metadata": {
        "colab": {
          "base_uri": "https://localhost:8080/"
        },
        "id": "8rHDmBQ_1VmC",
        "outputId": "22e916e5-3715-4150-a151-04e2f9f64941"
      },
      "execution_count": null,
      "outputs": [
        {
          "output_type": "stream",
          "name": "stderr",
          "text": [
            "100%|██████████| 36/36 [00:00<00:00, 3308.46it/s]\n",
            "30it [00:00, 978.84it/s]\n"
          ]
        },
        {
          "output_type": "execute_result",
          "data": {
            "text/plain": [
              "[('A man holds a large stuffed lion toy.',\n",
              "  ['A woman holds a large stuffed lion toy.']),\n",
              " ('A man is smiling at a stuffed lion',\n",
              "  ['A woman is smiling at a stuffed lion']),\n",
              " ('A girl is on rollerskates talking on her cellphone standing in a parking lot.',\n",
              "  ['A boy is on rollerskates talking on his cellphone standing in a parking lot.'])]"
            ]
          },
          "metadata": {},
          "execution_count": 10
        }
      ]
    },
    {
      "cell_type": "code",
      "source": [
        "list_tuple_new_captions, wds = checker.change_captions_skill(list_captions=dft.caption, skill=skill, verbose=True)\n",
        "\n",
        "capt_selected = [k[0] for k in list_tuple_new_captions]\n",
        "dftskill = dft[dft.caption.isin(capt_selected)]"
      ],
      "metadata": {
        "id": "0pdhjpozzlya",
        "colab": {
          "base_uri": "https://localhost:8080/"
        },
        "outputId": "bea98d87-c896-4aa0-e9b3-0bbbb1b5fc77"
      },
      "execution_count": null,
      "outputs": [
        {
          "output_type": "stream",
          "name": "stderr",
          "text": [
            "100%|██████████| 145000/145000 [00:20<00:00, 7101.07it/s]\n",
            "83164it [00:58, 1416.94it/s]\n"
          ]
        }
      ]
    },
    {
      "cell_type": "code",
      "source": [
        "dftskill['word_detected'] = wds\n",
        "dftskill['augmented_captions'] = [k[1] for k in list_tuple_new_captions]"
      ],
      "metadata": {
        "colab": {
          "base_uri": "https://localhost:8080/"
        },
        "id": "_IcNAWv70j1j",
        "outputId": "def72a68-2dc8-42cf-dbe6-131276b4af7d"
      },
      "execution_count": null,
      "outputs": [
        {
          "output_type": "stream",
          "name": "stderr",
          "text": [
            "<ipython-input-12-ceae633accf5>:1: SettingWithCopyWarning: \n",
            "A value is trying to be set on a copy of a slice from a DataFrame.\n",
            "Try using .loc[row_indexer,col_indexer] = value instead\n",
            "\n",
            "See the caveats in the documentation: https://pandas.pydata.org/pandas-docs/stable/user_guide/indexing.html#returning-a-view-versus-a-copy\n",
            "  dftskill['word_detected'] = wds\n",
            "<ipython-input-12-ceae633accf5>:2: SettingWithCopyWarning: \n",
            "A value is trying to be set on a copy of a slice from a DataFrame.\n",
            "Try using .loc[row_indexer,col_indexer] = value instead\n",
            "\n",
            "See the caveats in the documentation: https://pandas.pydata.org/pandas-docs/stable/user_guide/indexing.html#returning-a-view-versus-a-copy\n",
            "  dftskill['augmented_captions'] = [k[1] for k in list_tuple_new_captions]\n"
          ]
        }
      ]
    },
    {
      "cell_type": "code",
      "source": [
        "import spacy \n",
        "nlp = spacy.load(\"en_core_web_sm\")\n",
        "\n",
        "def find_prompt(x):\n",
        "    \"\"\"\n",
        "    \"\"\"\n",
        "    prompt_segmentation = []\n",
        "    doc = nlp(x['caption'])\n",
        "    for wd in x['word_detected']:\n",
        "        list_candidates = [k.text for k in doc.noun_chunks if wd in k.text.lower()]\n",
        "        if len(list_candidates) > 1:\n",
        "            prompt_segmentation.append('')\n",
        "        elif len(list_candidates) == 0:\n",
        "            prompt_segmentation.append(wd)\n",
        "        else:\n",
        "            prompt_segmentation.append(list_candidates[0])\n",
        "    return prompt_segmentation"
      ],
      "metadata": {
        "id": "1D_SGrjqmsmQ"
      },
      "execution_count": null,
      "outputs": []
    },
    {
      "cell_type": "code",
      "source": [
        "dftskill['prompt_segmentation'] = dftskill.apply(find_prompt, axis=1)"
      ],
      "metadata": {
        "id": "ZFFqp6T2vjUJ"
      },
      "execution_count": null,
      "outputs": []
    },
    {
      "cell_type": "code",
      "source": [
        "# Only keep when the noun phrase has been detected\n",
        "dftskill = dftskill[dftskill['prompt_segmentation'].map(lambda x: np.mean([len(k) > 0 for k in x]) == 1)]"
      ],
      "metadata": {
        "id": "irUs-gvJDPi5"
      },
      "execution_count": null,
      "outputs": []
    },
    {
      "cell_type": "code",
      "source": [
        "dftskill"
      ],
      "metadata": {
        "colab": {
          "base_uri": "https://localhost:8080/",
          "height": 641
        },
        "id": "meE___Sn3BRM",
        "outputId": "946a4fc3-ec3a-4c8c-8999-50823350f68c"
      },
      "execution_count": null,
      "outputs": [
        {
          "output_type": "execute_result",
          "data": {
            "text/plain": [
              "          image_ID  caption_ID  \\\n",
              "0       1000092795           0   \n",
              "2       1000092795           2   \n",
              "3       1000092795           3   \n",
              "5         10002456           5   \n",
              "7         10002456           7   \n",
              "...            ...         ...   \n",
              "155065   998845445      155065   \n",
              "155066   998845445      155066   \n",
              "155067   998845445      155067   \n",
              "155068   998845445      155068   \n",
              "155069   998845445      155069   \n",
              "\n",
              "                                                  caption  split  \\\n",
              "0       Two young guys with shaggy hair look at their ...  train   \n",
              "2         Two men in green shirts are standing in a yard.  train   \n",
              "3             A man in a blue shirt standing in a garden.  train   \n",
              "5       Several men in hard hats are operating a giant...  train   \n",
              "7         Two men working on a machine wearing hard hats.  train   \n",
              "...                                                   ...    ...   \n",
              "155065  A man in shorts and a Hawaiian shirt leans ove...  train   \n",
              "155066  A young man hanging over the side of a boat, w...  train   \n",
              "155067  A man is leaning off of the side of a blue and...  train   \n",
              "155068  A man riding a small boat in a harbor, with fo...  train   \n",
              "155069  A man on a moored blue and white boat with hil...  train   \n",
              "\n",
              "       word_detected                                 augmented_captions  \\\n",
              "0             [guys]  [Two young girls with shaggy hair look at thei...   \n",
              "2              [men]  [Two women in green shirts are standing in a y...   \n",
              "3              [man]    [A woman in a blue shirt standing in a garden.]   \n",
              "5              [men]  [Several women in hard hats are operating a gi...   \n",
              "7              [men]  [Two women working on a machine wearing hard h...   \n",
              "...              ...                                                ...   \n",
              "155065         [man]  [A woman in shorts and a Hawaiian shirt leans ...   \n",
              "155066         [man]  [A young woman hanging over the side of a boat...   \n",
              "155067         [man]  [A woman is leaning off of the side of a blue ...   \n",
              "155068         [man]  [A woman riding a small boat in a harbor, with...   \n",
              "155069         [man]  [A woman on a moored blue and white boat with ...   \n",
              "\n",
              "       prompt_segmentation  \n",
              "0       ['Two young guys']  \n",
              "2              ['Two men']  \n",
              "3                ['A man']  \n",
              "5          ['Several men']  \n",
              "7              ['Two men']  \n",
              "...                    ...  \n",
              "155065           ['A man']  \n",
              "155066     ['A young man']  \n",
              "155067           ['A man']  \n",
              "155068           ['A man']  \n",
              "155069           ['A man']  \n",
              "\n",
              "[83164 rows x 7 columns]"
            ],
            "text/html": [
              "\n",
              "  <div id=\"df-0c8488c1-e51a-44cd-8bde-6f70f7ac0d09\">\n",
              "    <div class=\"colab-df-container\">\n",
              "      <div>\n",
              "<style scoped>\n",
              "    .dataframe tbody tr th:only-of-type {\n",
              "        vertical-align: middle;\n",
              "    }\n",
              "\n",
              "    .dataframe tbody tr th {\n",
              "        vertical-align: top;\n",
              "    }\n",
              "\n",
              "    .dataframe thead th {\n",
              "        text-align: right;\n",
              "    }\n",
              "</style>\n",
              "<table border=\"1\" class=\"dataframe\">\n",
              "  <thead>\n",
              "    <tr style=\"text-align: right;\">\n",
              "      <th></th>\n",
              "      <th>image_ID</th>\n",
              "      <th>caption_ID</th>\n",
              "      <th>caption</th>\n",
              "      <th>split</th>\n",
              "      <th>word_detected</th>\n",
              "      <th>augmented_captions</th>\n",
              "      <th>prompt_segmentation</th>\n",
              "    </tr>\n",
              "  </thead>\n",
              "  <tbody>\n",
              "    <tr>\n",
              "      <th>0</th>\n",
              "      <td>1000092795</td>\n",
              "      <td>0</td>\n",
              "      <td>Two young guys with shaggy hair look at their ...</td>\n",
              "      <td>train</td>\n",
              "      <td>[guys]</td>\n",
              "      <td>[Two young girls with shaggy hair look at thei...</td>\n",
              "      <td>['Two young guys']</td>\n",
              "    </tr>\n",
              "    <tr>\n",
              "      <th>2</th>\n",
              "      <td>1000092795</td>\n",
              "      <td>2</td>\n",
              "      <td>Two men in green shirts are standing in a yard.</td>\n",
              "      <td>train</td>\n",
              "      <td>[men]</td>\n",
              "      <td>[Two women in green shirts are standing in a y...</td>\n",
              "      <td>['Two men']</td>\n",
              "    </tr>\n",
              "    <tr>\n",
              "      <th>3</th>\n",
              "      <td>1000092795</td>\n",
              "      <td>3</td>\n",
              "      <td>A man in a blue shirt standing in a garden.</td>\n",
              "      <td>train</td>\n",
              "      <td>[man]</td>\n",
              "      <td>[A woman in a blue shirt standing in a garden.]</td>\n",
              "      <td>['A man']</td>\n",
              "    </tr>\n",
              "    <tr>\n",
              "      <th>5</th>\n",
              "      <td>10002456</td>\n",
              "      <td>5</td>\n",
              "      <td>Several men in hard hats are operating a giant...</td>\n",
              "      <td>train</td>\n",
              "      <td>[men]</td>\n",
              "      <td>[Several women in hard hats are operating a gi...</td>\n",
              "      <td>['Several men']</td>\n",
              "    </tr>\n",
              "    <tr>\n",
              "      <th>7</th>\n",
              "      <td>10002456</td>\n",
              "      <td>7</td>\n",
              "      <td>Two men working on a machine wearing hard hats.</td>\n",
              "      <td>train</td>\n",
              "      <td>[men]</td>\n",
              "      <td>[Two women working on a machine wearing hard h...</td>\n",
              "      <td>['Two men']</td>\n",
              "    </tr>\n",
              "    <tr>\n",
              "      <th>...</th>\n",
              "      <td>...</td>\n",
              "      <td>...</td>\n",
              "      <td>...</td>\n",
              "      <td>...</td>\n",
              "      <td>...</td>\n",
              "      <td>...</td>\n",
              "      <td>...</td>\n",
              "    </tr>\n",
              "    <tr>\n",
              "      <th>155065</th>\n",
              "      <td>998845445</td>\n",
              "      <td>155065</td>\n",
              "      <td>A man in shorts and a Hawaiian shirt leans ove...</td>\n",
              "      <td>train</td>\n",
              "      <td>[man]</td>\n",
              "      <td>[A woman in shorts and a Hawaiian shirt leans ...</td>\n",
              "      <td>['A man']</td>\n",
              "    </tr>\n",
              "    <tr>\n",
              "      <th>155066</th>\n",
              "      <td>998845445</td>\n",
              "      <td>155066</td>\n",
              "      <td>A young man hanging over the side of a boat, w...</td>\n",
              "      <td>train</td>\n",
              "      <td>[man]</td>\n",
              "      <td>[A young woman hanging over the side of a boat...</td>\n",
              "      <td>['A young man']</td>\n",
              "    </tr>\n",
              "    <tr>\n",
              "      <th>155067</th>\n",
              "      <td>998845445</td>\n",
              "      <td>155067</td>\n",
              "      <td>A man is leaning off of the side of a blue and...</td>\n",
              "      <td>train</td>\n",
              "      <td>[man]</td>\n",
              "      <td>[A woman is leaning off of the side of a blue ...</td>\n",
              "      <td>['A man']</td>\n",
              "    </tr>\n",
              "    <tr>\n",
              "      <th>155068</th>\n",
              "      <td>998845445</td>\n",
              "      <td>155068</td>\n",
              "      <td>A man riding a small boat in a harbor, with fo...</td>\n",
              "      <td>train</td>\n",
              "      <td>[man]</td>\n",
              "      <td>[A woman riding a small boat in a harbor, with...</td>\n",
              "      <td>['A man']</td>\n",
              "    </tr>\n",
              "    <tr>\n",
              "      <th>155069</th>\n",
              "      <td>998845445</td>\n",
              "      <td>155069</td>\n",
              "      <td>A man on a moored blue and white boat with hil...</td>\n",
              "      <td>train</td>\n",
              "      <td>[man]</td>\n",
              "      <td>[A woman on a moored blue and white boat with ...</td>\n",
              "      <td>['A man']</td>\n",
              "    </tr>\n",
              "  </tbody>\n",
              "</table>\n",
              "<p>83164 rows × 7 columns</p>\n",
              "</div>\n",
              "      <button class=\"colab-df-convert\" onclick=\"convertToInteractive('df-0c8488c1-e51a-44cd-8bde-6f70f7ac0d09')\"\n",
              "              title=\"Convert this dataframe to an interactive table.\"\n",
              "              style=\"display:none;\">\n",
              "        \n",
              "  <svg xmlns=\"http://www.w3.org/2000/svg\" height=\"24px\"viewBox=\"0 0 24 24\"\n",
              "       width=\"24px\">\n",
              "    <path d=\"M0 0h24v24H0V0z\" fill=\"none\"/>\n",
              "    <path d=\"M18.56 5.44l.94 2.06.94-2.06 2.06-.94-2.06-.94-.94-2.06-.94 2.06-2.06.94zm-11 1L8.5 8.5l.94-2.06 2.06-.94-2.06-.94L8.5 2.5l-.94 2.06-2.06.94zm10 10l.94 2.06.94-2.06 2.06-.94-2.06-.94-.94-2.06-.94 2.06-2.06.94z\"/><path d=\"M17.41 7.96l-1.37-1.37c-.4-.4-.92-.59-1.43-.59-.52 0-1.04.2-1.43.59L10.3 9.45l-7.72 7.72c-.78.78-.78 2.05 0 2.83L4 21.41c.39.39.9.59 1.41.59.51 0 1.02-.2 1.41-.59l7.78-7.78 2.81-2.81c.8-.78.8-2.07 0-2.86zM5.41 20L4 18.59l7.72-7.72 1.47 1.35L5.41 20z\"/>\n",
              "  </svg>\n",
              "      </button>\n",
              "      \n",
              "  <style>\n",
              "    .colab-df-container {\n",
              "      display:flex;\n",
              "      flex-wrap:wrap;\n",
              "      gap: 12px;\n",
              "    }\n",
              "\n",
              "    .colab-df-convert {\n",
              "      background-color: #E8F0FE;\n",
              "      border: none;\n",
              "      border-radius: 50%;\n",
              "      cursor: pointer;\n",
              "      display: none;\n",
              "      fill: #1967D2;\n",
              "      height: 32px;\n",
              "      padding: 0 0 0 0;\n",
              "      width: 32px;\n",
              "    }\n",
              "\n",
              "    .colab-df-convert:hover {\n",
              "      background-color: #E2EBFA;\n",
              "      box-shadow: 0px 1px 2px rgba(60, 64, 67, 0.3), 0px 1px 3px 1px rgba(60, 64, 67, 0.15);\n",
              "      fill: #174EA6;\n",
              "    }\n",
              "\n",
              "    [theme=dark] .colab-df-convert {\n",
              "      background-color: #3B4455;\n",
              "      fill: #D2E3FC;\n",
              "    }\n",
              "\n",
              "    [theme=dark] .colab-df-convert:hover {\n",
              "      background-color: #434B5C;\n",
              "      box-shadow: 0px 1px 3px 1px rgba(0, 0, 0, 0.15);\n",
              "      filter: drop-shadow(0px 1px 2px rgba(0, 0, 0, 0.3));\n",
              "      fill: #FFFFFF;\n",
              "    }\n",
              "  </style>\n",
              "\n",
              "      <script>\n",
              "        const buttonEl =\n",
              "          document.querySelector('#df-0c8488c1-e51a-44cd-8bde-6f70f7ac0d09 button.colab-df-convert');\n",
              "        buttonEl.style.display =\n",
              "          google.colab.kernel.accessAllowed ? 'block' : 'none';\n",
              "\n",
              "        async function convertToInteractive(key) {\n",
              "          const element = document.querySelector('#df-0c8488c1-e51a-44cd-8bde-6f70f7ac0d09');\n",
              "          const dataTable =\n",
              "            await google.colab.kernel.invokeFunction('convertToInteractive',\n",
              "                                                     [key], {});\n",
              "          if (!dataTable) return;\n",
              "\n",
              "          const docLinkHtml = 'Like what you see? Visit the ' +\n",
              "            '<a target=\"_blank\" href=https://colab.research.google.com/notebooks/data_table.ipynb>data table notebook</a>'\n",
              "            + ' to learn more about interactive tables.';\n",
              "          element.innerHTML = '';\n",
              "          dataTable['output_type'] = 'display_data';\n",
              "          await google.colab.output.renderOutput(dataTable, element);\n",
              "          const docLink = document.createElement('div');\n",
              "          docLink.innerHTML = docLinkHtml;\n",
              "          element.appendChild(docLink);\n",
              "        }\n",
              "      </script>\n",
              "    </div>\n",
              "  </div>\n",
              "  "
            ]
          },
          "metadata": {},
          "execution_count": 25
        }
      ]
    },
    {
      "cell_type": "code",
      "source": [
        "dftskill.to_csv('Caption_training_%s.tsv'%skill, sep='\\t', index=False)\n",
        "files.download('Caption_training_%s.tsv'%skill)"
      ],
      "metadata": {
        "id": "YcTp71iO02My",
        "colab": {
          "base_uri": "https://localhost:8080/",
          "height": 17
        },
        "outputId": "ff3cbbee-c9e4-4e8c-d794-7f010e0a00d4"
      },
      "execution_count": null,
      "outputs": [
        {
          "output_type": "display_data",
          "data": {
            "text/plain": [
              "<IPython.core.display.Javascript object>"
            ],
            "application/javascript": [
              "\n",
              "    async function download(id, filename, size) {\n",
              "      if (!google.colab.kernel.accessAllowed) {\n",
              "        return;\n",
              "      }\n",
              "      const div = document.createElement('div');\n",
              "      const label = document.createElement('label');\n",
              "      label.textContent = `Downloading \"${filename}\": `;\n",
              "      div.appendChild(label);\n",
              "      const progress = document.createElement('progress');\n",
              "      progress.max = size;\n",
              "      div.appendChild(progress);\n",
              "      document.body.appendChild(div);\n",
              "\n",
              "      const buffers = [];\n",
              "      let downloaded = 0;\n",
              "\n",
              "      const channel = await google.colab.kernel.comms.open(id);\n",
              "      // Send a message to notify the kernel that we're ready.\n",
              "      channel.send({})\n",
              "\n",
              "      for await (const message of channel.messages) {\n",
              "        // Send a message to notify the kernel that we're ready.\n",
              "        channel.send({})\n",
              "        if (message.buffers) {\n",
              "          for (const buffer of message.buffers) {\n",
              "            buffers.push(buffer);\n",
              "            downloaded += buffer.byteLength;\n",
              "            progress.value = downloaded;\n",
              "          }\n",
              "        }\n",
              "      }\n",
              "      const blob = new Blob(buffers, {type: 'application/binary'});\n",
              "      const a = document.createElement('a');\n",
              "      a.href = window.URL.createObjectURL(blob);\n",
              "      a.download = filename;\n",
              "      div.appendChild(a);\n",
              "      a.click();\n",
              "      div.remove();\n",
              "    }\n",
              "  "
            ]
          },
          "metadata": {}
        },
        {
          "output_type": "display_data",
          "data": {
            "text/plain": [
              "<IPython.core.display.Javascript object>"
            ],
            "application/javascript": [
              "download(\"download_be61f815-d0db-4773-9d0d-7fcbe8fbb9aa\", \"Caption_training_gender.tsv\", 16215246)"
            ]
          },
          "metadata": {}
        }
      ]
    },
    {
      "cell_type": "code",
      "source": [
        "dftest = df[df.split == 'test']\n",
        "\n",
        "for sk in ['gender', 'color', 'emotion', 'counting']:\n",
        "  capts, _ = checker.find_captions_skill(list_captions=dftest.caption, skill=sk)\n",
        "  dftestskill = dftest[dftest.caption.isin(capts)]\n",
        "  dftestskill.to_csv('Caption_testing_%s.tsv'%sk, sep='\\t', index=False)\n",
        "  files.download('Caption_testing_%s.tsv'%sk)"
      ],
      "metadata": {
        "id": "rudabD6QCqEr"
      },
      "execution_count": null,
      "outputs": []
    }
  ]
}