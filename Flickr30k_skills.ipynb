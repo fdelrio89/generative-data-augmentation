{
 "cells": [
  {
   "cell_type": "code",
   "execution_count": 1,
   "metadata": {
    "id": "qIj0JJ9FhGL_"
   },
   "outputs": [],
   "source": [
    "# !pip install spacy"
   ]
  },
  {
   "cell_type": "code",
   "execution_count": 2,
   "metadata": {
    "id": "-ndVS8W7rfEG"
   },
   "outputs": [],
   "source": [
    "import os \n",
    "import pandas as pd \n",
    "import numpy as np\n",
    "from tqdm import tqdm\n",
    "# from google.colab import files"
   ]
  },
  {
   "cell_type": "code",
   "execution_count": 3,
   "metadata": {
    "colab": {
     "base_uri": "https://localhost:8080/",
     "height": 219
    },
    "id": "QzXHK1bVypRA",
    "outputId": "862f79a9-9e4c-435e-f01a-b6b532ba293e"
   },
   "outputs": [],
   "source": [
    "# !wget https://cs.stanford.edu/people/karpathy/deepimagesent/caption_datasets.zip"
   ]
  },
  {
   "cell_type": "code",
   "execution_count": 4,
   "metadata": {
    "colab": {
     "base_uri": "https://localhost:8080/"
    },
    "id": "VMEtt9kPzBOx",
    "outputId": "ab5ede29-44c4-4c64-d469-02e9e5ad7538"
   },
   "outputs": [],
   "source": [
    "# !unzip caption_datasets.zip -d caption_datasets"
   ]
  },
  {
   "cell_type": "code",
   "execution_count": 5,
   "metadata": {
    "colab": {
     "base_uri": "https://localhost:8080/",
     "height": 424
    },
    "id": "8H4w5ICuzIGJ",
    "outputId": "47857df3-3038-47c6-daf5-9e498c9f8fa5"
   },
   "outputs": [
    {
     "data": {
      "text/html": [
       "<div>\n",
       "<style scoped>\n",
       "    .dataframe tbody tr th:only-of-type {\n",
       "        vertical-align: middle;\n",
       "    }\n",
       "\n",
       "    .dataframe tbody tr th {\n",
       "        vertical-align: top;\n",
       "    }\n",
       "\n",
       "    .dataframe thead th {\n",
       "        text-align: right;\n",
       "    }\n",
       "</style>\n",
       "<table border=\"1\" class=\"dataframe\">\n",
       "  <thead>\n",
       "    <tr style=\"text-align: right;\">\n",
       "      <th></th>\n",
       "      <th>image_ID</th>\n",
       "      <th>caption_ID</th>\n",
       "      <th>caption</th>\n",
       "      <th>split</th>\n",
       "    </tr>\n",
       "  </thead>\n",
       "  <tbody>\n",
       "    <tr>\n",
       "      <th>0</th>\n",
       "      <td>1000092795</td>\n",
       "      <td>0</td>\n",
       "      <td>Two young guys with shaggy hair look at their ...</td>\n",
       "      <td>train</td>\n",
       "    </tr>\n",
       "    <tr>\n",
       "      <th>1</th>\n",
       "      <td>1000092795</td>\n",
       "      <td>1</td>\n",
       "      <td>Two young, White males are outside near many b...</td>\n",
       "      <td>train</td>\n",
       "    </tr>\n",
       "    <tr>\n",
       "      <th>2</th>\n",
       "      <td>1000092795</td>\n",
       "      <td>2</td>\n",
       "      <td>Two men in green shirts are standing in a yard.</td>\n",
       "      <td>train</td>\n",
       "    </tr>\n",
       "    <tr>\n",
       "      <th>3</th>\n",
       "      <td>1000092795</td>\n",
       "      <td>3</td>\n",
       "      <td>A man in a blue shirt standing in a garden.</td>\n",
       "      <td>train</td>\n",
       "    </tr>\n",
       "    <tr>\n",
       "      <th>4</th>\n",
       "      <td>1000092795</td>\n",
       "      <td>4</td>\n",
       "      <td>Two friends enjoy time spent together.</td>\n",
       "      <td>train</td>\n",
       "    </tr>\n",
       "    <tr>\n",
       "      <th>...</th>\n",
       "      <td>...</td>\n",
       "      <td>...</td>\n",
       "      <td>...</td>\n",
       "      <td>...</td>\n",
       "    </tr>\n",
       "    <tr>\n",
       "      <th>155065</th>\n",
       "      <td>998845445</td>\n",
       "      <td>155065</td>\n",
       "      <td>A man in shorts and a Hawaiian shirt leans ove...</td>\n",
       "      <td>train</td>\n",
       "    </tr>\n",
       "    <tr>\n",
       "      <th>155066</th>\n",
       "      <td>998845445</td>\n",
       "      <td>155066</td>\n",
       "      <td>A young man hanging over the side of a boat, w...</td>\n",
       "      <td>train</td>\n",
       "    </tr>\n",
       "    <tr>\n",
       "      <th>155067</th>\n",
       "      <td>998845445</td>\n",
       "      <td>155067</td>\n",
       "      <td>A man is leaning off of the side of a blue and...</td>\n",
       "      <td>train</td>\n",
       "    </tr>\n",
       "    <tr>\n",
       "      <th>155068</th>\n",
       "      <td>998845445</td>\n",
       "      <td>155068</td>\n",
       "      <td>A man riding a small boat in a harbor, with fo...</td>\n",
       "      <td>train</td>\n",
       "    </tr>\n",
       "    <tr>\n",
       "      <th>155069</th>\n",
       "      <td>998845445</td>\n",
       "      <td>155069</td>\n",
       "      <td>A man on a moored blue and white boat with hil...</td>\n",
       "      <td>train</td>\n",
       "    </tr>\n",
       "  </tbody>\n",
       "</table>\n",
       "<p>155070 rows × 4 columns</p>\n",
       "</div>"
      ],
      "text/plain": [
       "          image_ID  caption_ID  \\\n",
       "0       1000092795           0   \n",
       "1       1000092795           1   \n",
       "2       1000092795           2   \n",
       "3       1000092795           3   \n",
       "4       1000092795           4   \n",
       "...            ...         ...   \n",
       "155065   998845445      155065   \n",
       "155066   998845445      155066   \n",
       "155067   998845445      155067   \n",
       "155068   998845445      155068   \n",
       "155069   998845445      155069   \n",
       "\n",
       "                                                  caption  split  \n",
       "0       Two young guys with shaggy hair look at their ...  train  \n",
       "1       Two young, White males are outside near many b...  train  \n",
       "2         Two men in green shirts are standing in a yard.  train  \n",
       "3             A man in a blue shirt standing in a garden.  train  \n",
       "4                  Two friends enjoy time spent together.  train  \n",
       "...                                                   ...    ...  \n",
       "155065  A man in shorts and a Hawaiian shirt leans ove...  train  \n",
       "155066  A young man hanging over the side of a boat, w...  train  \n",
       "155067  A man is leaning off of the side of a blue and...  train  \n",
       "155068  A man riding a small boat in a harbor, with fo...  train  \n",
       "155069  A man on a moored blue and white boat with hil...  train  \n",
       "\n",
       "[155070 rows x 4 columns]"
      ]
     },
     "execution_count": 5,
     "metadata": {},
     "output_type": "execute_result"
    }
   ],
   "source": [
    "dfjson = pd.read_json('/mnt/nas2/GrimaRepo/datasets/flickr30k/annotations/dataset_flickr30k.json')\n",
    "\n",
    "\n",
    "list_df = [('image_ID', 'caption_ID', 'caption', 'split')]\n",
    "\n",
    "for k_img in range(len(dfjson['images'])):\n",
    "    dict_img = dfjson['images'][k_img]\n",
    "    imgid = dict_img['filename'].split('.')[0]\n",
    "    split = dict_img['split']\n",
    "    text = dict_img['sentences']\n",
    "    # for each caption\n",
    "    for capt in text:\n",
    "        # IID, CID, caption, split\n",
    "        list_df.append((imgid, capt['sentid'], capt['raw'], split))\n",
    "        \n",
    "df = pd.DataFrame(list_df[1:], columns=list_df[0])#.set_index(['IID', 'CID'])\n",
    "df"
   ]
  },
  {
   "cell_type": "code",
   "execution_count": 6,
   "metadata": {
    "colab": {
     "base_uri": "https://localhost:8080/",
     "height": 17
    },
    "id": "lQbh2rUP-Pad",
    "outputId": "0b8faf9f-750a-49e8-cad5-4293dbf27742"
   },
   "outputs": [],
   "source": [
    "# df.to_csv('Caption_all.tsv', sep='\\t', index=False)\n",
    "# files.download('Caption_all.tsv')"
   ]
  },
  {
   "cell_type": "markdown",
   "metadata": {
    "id": "Ku71YKzJrxl4"
   },
   "source": [
    "# Skills"
   ]
  },
  {
   "cell_type": "code",
   "execution_count": 7,
   "metadata": {
    "id": "_gFHkD-KCu_F"
   },
   "outputs": [],
   "source": [
    "from skillschecker import skillsChecker"
   ]
  },
  {
   "cell_type": "code",
   "execution_count": 8,
   "metadata": {
    "id": "_y61psihzNxe"
   },
   "outputs": [],
   "source": [
    "checker = skillsChecker()\n",
    "list_captions = df.caption.values\n",
    "\n",
    "split = 'val'\n",
    "skill = 'gender' # color, gender, counting\n",
    "\n",
    "dft = df[df.split == split]"
   ]
  },
  {
   "cell_type": "code",
   "execution_count": 9,
   "metadata": {
    "colab": {
     "base_uri": "https://localhost:8080/"
    },
    "id": "8rHDmBQ_1VmC",
    "outputId": "22e916e5-3715-4150-a151-04e2f9f64941"
   },
   "outputs": [
    {
     "name": "stderr",
     "output_type": "stream",
     "text": [
      "100%|██████████| 5070/5070 [00:00<00:00, 7451.65it/s]\n",
      "2922it [00:01, 1966.77it/s]\n"
     ]
    }
   ],
   "source": [
    "list_tuple_new_captions, wds = checker.change_captions_skill(list_captions=dft.caption, skill=skill, verbose=True)"
   ]
  },
  {
   "cell_type": "code",
   "execution_count": 10,
   "metadata": {
    "colab": {
     "base_uri": "https://localhost:8080/"
    },
    "id": "0pdhjpozzlya",
    "outputId": "bea98d87-c896-4aa0-e9b3-0bbbb1b5fc77"
   },
   "outputs": [
    {
     "name": "stderr",
     "output_type": "stream",
     "text": [
      "100%|██████████| 5070/5070 [00:00<00:00, 7732.38it/s]\n",
      "2922it [00:01, 1979.19it/s]\n"
     ]
    }
   ],
   "source": [
    "list_tuple_new_captions, wds = checker.change_captions_skill(list_captions=dft.caption, skill=skill, verbose=True)\n",
    "\n",
    "capt_selected = [k[0] for k in list_tuple_new_captions]\n",
    "dftskill = dft[dft.caption.isin(capt_selected)]"
   ]
  },
  {
   "cell_type": "code",
   "execution_count": 11,
   "metadata": {
    "colab": {
     "base_uri": "https://localhost:8080/"
    },
    "id": "_IcNAWv70j1j",
    "outputId": "def72a68-2dc8-42cf-dbe6-131276b4af7d"
   },
   "outputs": [
    {
     "name": "stderr",
     "output_type": "stream",
     "text": [
      "/home/fidelrio/.pyenv/versions/3.7.5/envs/systematicity/lib/python3.7/site-packages/ipykernel_launcher.py:1: SettingWithCopyWarning: \n",
      "A value is trying to be set on a copy of a slice from a DataFrame.\n",
      "Try using .loc[row_indexer,col_indexer] = value instead\n",
      "\n",
      "See the caveats in the documentation: https://pandas.pydata.org/pandas-docs/stable/user_guide/indexing.html#returning-a-view-versus-a-copy\n",
      "  \"\"\"Entry point for launching an IPython kernel.\n",
      "/home/fidelrio/.pyenv/versions/3.7.5/envs/systematicity/lib/python3.7/site-packages/ipykernel_launcher.py:2: SettingWithCopyWarning: \n",
      "A value is trying to be set on a copy of a slice from a DataFrame.\n",
      "Try using .loc[row_indexer,col_indexer] = value instead\n",
      "\n",
      "See the caveats in the documentation: https://pandas.pydata.org/pandas-docs/stable/user_guide/indexing.html#returning-a-view-versus-a-copy\n",
      "  \n"
     ]
    }
   ],
   "source": [
    "dftskill['word_detected'] = wds\n",
    "dftskill['augmented_captions'] = [k[1] for k in list_tuple_new_captions]"
   ]
  },
  {
   "cell_type": "code",
   "execution_count": 12,
   "metadata": {
    "id": "1D_SGrjqmsmQ"
   },
   "outputs": [],
   "source": [
    "import spacy \n",
    "nlp = spacy.load(\"en_core_web_sm\")\n",
    "\n",
    "def find_prompt(x):\n",
    "    \"\"\"\n",
    "    \"\"\"\n",
    "    prompt_segmentation = []\n",
    "    doc = nlp(x['caption'])\n",
    "    for wd in x['word_detected']:\n",
    "        list_candidates = [k.text for k in doc.noun_chunks if wd in k.text.lower()]\n",
    "        if len(list_candidates) > 1:\n",
    "            prompt_segmentation.append('')\n",
    "        elif len(list_candidates) == 0:\n",
    "            prompt_segmentation.append(wd)\n",
    "        else:\n",
    "            prompt_segmentation.append(list_candidates[0])\n",
    "    return prompt_segmentation"
   ]
  },
  {
   "cell_type": "code",
   "execution_count": 13,
   "metadata": {
    "id": "ZFFqp6T2vjUJ"
   },
   "outputs": [
    {
     "name": "stderr",
     "output_type": "stream",
     "text": [
      "/home/fidelrio/.pyenv/versions/3.7.5/envs/systematicity/lib/python3.7/site-packages/ipykernel_launcher.py:1: SettingWithCopyWarning: \n",
      "A value is trying to be set on a copy of a slice from a DataFrame.\n",
      "Try using .loc[row_indexer,col_indexer] = value instead\n",
      "\n",
      "See the caveats in the documentation: https://pandas.pydata.org/pandas-docs/stable/user_guide/indexing.html#returning-a-view-versus-a-copy\n",
      "  \"\"\"Entry point for launching an IPython kernel.\n"
     ]
    }
   ],
   "source": [
    "dftskill['prompt_segmentation'] = dftskill.apply(find_prompt, axis=1)"
   ]
  },
  {
   "cell_type": "code",
   "execution_count": 14,
   "metadata": {
    "id": "irUs-gvJDPi5"
   },
   "outputs": [],
   "source": [
    "# Only keep when the noun phrase has been detected\n",
    "dftskill = dftskill[dftskill['prompt_segmentation'].map(lambda x: np.mean([len(k) > 0 for k in x]) == 1)]"
   ]
  },
  {
   "cell_type": "code",
   "execution_count": 15,
   "metadata": {
    "colab": {
     "base_uri": "https://localhost:8080/",
     "height": 641
    },
    "id": "meE___Sn3BRM",
    "outputId": "946a4fc3-ec3a-4c8c-8999-50823350f68c"
   },
   "outputs": [
    {
     "data": {
      "text/html": [
       "<div>\n",
       "<style scoped>\n",
       "    .dataframe tbody tr th:only-of-type {\n",
       "        vertical-align: middle;\n",
       "    }\n",
       "\n",
       "    .dataframe tbody tr th {\n",
       "        vertical-align: top;\n",
       "    }\n",
       "\n",
       "    .dataframe thead th {\n",
       "        text-align: right;\n",
       "    }\n",
       "</style>\n",
       "<table border=\"1\" class=\"dataframe\">\n",
       "  <thead>\n",
       "    <tr style=\"text-align: right;\">\n",
       "      <th></th>\n",
       "      <th>image_ID</th>\n",
       "      <th>caption_ID</th>\n",
       "      <th>caption</th>\n",
       "      <th>split</th>\n",
       "      <th>word_detected</th>\n",
       "      <th>augmented_captions</th>\n",
       "      <th>prompt_segmentation</th>\n",
       "    </tr>\n",
       "  </thead>\n",
       "  <tbody>\n",
       "    <tr>\n",
       "      <th>336</th>\n",
       "      <td>1018148011</td>\n",
       "      <td>336</td>\n",
       "      <td>Men are standing on and about a truck carrying...</td>\n",
       "      <td>val</td>\n",
       "      <td>[men]</td>\n",
       "      <td>[Women are standing on and about a truck carry...</td>\n",
       "      <td>[Men]</td>\n",
       "    </tr>\n",
       "    <tr>\n",
       "      <th>338</th>\n",
       "      <td>1018148011</td>\n",
       "      <td>338</td>\n",
       "      <td>A group of men are loading cotton onto a truck</td>\n",
       "      <td>val</td>\n",
       "      <td>[men]</td>\n",
       "      <td>[A group of women are loading cotton onto a tr...</td>\n",
       "      <td>[men]</td>\n",
       "    </tr>\n",
       "    <tr>\n",
       "      <th>496</th>\n",
       "      <td>1029450589</td>\n",
       "      <td>496</td>\n",
       "      <td>A woman in black pants napping on the couch.</td>\n",
       "      <td>val</td>\n",
       "      <td>[woman]</td>\n",
       "      <td>[A man in black pants napping on the couch.]</td>\n",
       "      <td>[A woman]</td>\n",
       "    </tr>\n",
       "    <tr>\n",
       "      <th>497</th>\n",
       "      <td>1029450589</td>\n",
       "      <td>497</td>\n",
       "      <td>A man sleeping in a green room on a couch.</td>\n",
       "      <td>val</td>\n",
       "      <td>[man]</td>\n",
       "      <td>[A woman sleeping in a green room on a couch.]</td>\n",
       "      <td>[A man]</td>\n",
       "    </tr>\n",
       "    <tr>\n",
       "      <th>498</th>\n",
       "      <td>1029450589</td>\n",
       "      <td>498</td>\n",
       "      <td>The young woman is sleeping in her room.</td>\n",
       "      <td>val</td>\n",
       "      <td>[woman]</td>\n",
       "      <td>[The young man is sleeping in his room.]</td>\n",
       "      <td>[The young woman]</td>\n",
       "    </tr>\n",
       "    <tr>\n",
       "      <th>...</th>\n",
       "      <td>...</td>\n",
       "      <td>...</td>\n",
       "      <td>...</td>\n",
       "      <td>...</td>\n",
       "      <td>...</td>\n",
       "      <td>...</td>\n",
       "      <td>...</td>\n",
       "    </tr>\n",
       "    <tr>\n",
       "      <th>154859</th>\n",
       "      <td>981727078</td>\n",
       "      <td>154859</td>\n",
       "      <td>Two men using a pay phone.</td>\n",
       "      <td>val</td>\n",
       "      <td>[men]</td>\n",
       "      <td>[Two women using a pay phone.]</td>\n",
       "      <td>[Two men]</td>\n",
       "    </tr>\n",
       "    <tr>\n",
       "      <th>154995</th>\n",
       "      <td>991459823</td>\n",
       "      <td>154995</td>\n",
       "      <td>A woman in a printed red dress, and brown sand...</td>\n",
       "      <td>val</td>\n",
       "      <td>[woman]</td>\n",
       "      <td>[A man in a printed red dress, and brown sanda...</td>\n",
       "      <td>[A woman]</td>\n",
       "    </tr>\n",
       "    <tr>\n",
       "      <th>154996</th>\n",
       "      <td>991459823</td>\n",
       "      <td>154996</td>\n",
       "      <td>A man is exiting a port-a-potty, relieved he c...</td>\n",
       "      <td>val</td>\n",
       "      <td>[man]</td>\n",
       "      <td>[A woman is exiting a port-a-potty, relieved h...</td>\n",
       "      <td>[A man]</td>\n",
       "    </tr>\n",
       "    <tr>\n",
       "      <th>154997</th>\n",
       "      <td>991459823</td>\n",
       "      <td>154997</td>\n",
       "      <td>Two women wearing red and a man coming out of ...</td>\n",
       "      <td>val</td>\n",
       "      <td>[man, women]</td>\n",
       "      <td>[Two women wearing red and a woman coming out ...</td>\n",
       "      <td>[a man, Two women]</td>\n",
       "    </tr>\n",
       "    <tr>\n",
       "      <th>154998</th>\n",
       "      <td>991459823</td>\n",
       "      <td>154998</td>\n",
       "      <td>Two women stand along a barricade near green p...</td>\n",
       "      <td>val</td>\n",
       "      <td>[women]</td>\n",
       "      <td>[Two men stand along a barricade near green po...</td>\n",
       "      <td>[Two women]</td>\n",
       "    </tr>\n",
       "  </tbody>\n",
       "</table>\n",
       "<p>2570 rows × 7 columns</p>\n",
       "</div>"
      ],
      "text/plain": [
       "          image_ID  caption_ID  \\\n",
       "336     1018148011         336   \n",
       "338     1018148011         338   \n",
       "496     1029450589         496   \n",
       "497     1029450589         497   \n",
       "498     1029450589         498   \n",
       "...            ...         ...   \n",
       "154859   981727078      154859   \n",
       "154995   991459823      154995   \n",
       "154996   991459823      154996   \n",
       "154997   991459823      154997   \n",
       "154998   991459823      154998   \n",
       "\n",
       "                                                  caption split word_detected  \\\n",
       "336     Men are standing on and about a truck carrying...   val         [men]   \n",
       "338        A group of men are loading cotton onto a truck   val         [men]   \n",
       "496          A woman in black pants napping on the couch.   val       [woman]   \n",
       "497            A man sleeping in a green room on a couch.   val         [man]   \n",
       "498              The young woman is sleeping in her room.   val       [woman]   \n",
       "...                                                   ...   ...           ...   \n",
       "154859                         Two men using a pay phone.   val         [men]   \n",
       "154995  A woman in a printed red dress, and brown sand...   val       [woman]   \n",
       "154996  A man is exiting a port-a-potty, relieved he c...   val         [man]   \n",
       "154997  Two women wearing red and a man coming out of ...   val  [man, women]   \n",
       "154998  Two women stand along a barricade near green p...   val       [women]   \n",
       "\n",
       "                                       augmented_captions prompt_segmentation  \n",
       "336     [Women are standing on and about a truck carry...               [Men]  \n",
       "338     [A group of women are loading cotton onto a tr...               [men]  \n",
       "496          [A man in black pants napping on the couch.]           [A woman]  \n",
       "497        [A woman sleeping in a green room on a couch.]             [A man]  \n",
       "498              [The young man is sleeping in his room.]   [The young woman]  \n",
       "...                                                   ...                 ...  \n",
       "154859                     [Two women using a pay phone.]           [Two men]  \n",
       "154995  [A man in a printed red dress, and brown sanda...           [A woman]  \n",
       "154996  [A woman is exiting a port-a-potty, relieved h...             [A man]  \n",
       "154997  [Two women wearing red and a woman coming out ...  [a man, Two women]  \n",
       "154998  [Two men stand along a barricade near green po...         [Two women]  \n",
       "\n",
       "[2570 rows x 7 columns]"
      ]
     },
     "execution_count": 15,
     "metadata": {},
     "output_type": "execute_result"
    }
   ],
   "source": [
    "dftskill"
   ]
  },
  {
   "cell_type": "code",
   "execution_count": 16,
   "metadata": {},
   "outputs": [
    {
     "name": "stderr",
     "output_type": "stream",
     "text": [
      "/home/fidelrio/.pyenv/versions/3.7.5/envs/systematicity/lib/python3.7/site-packages/pandas/core/indexing.py:1637: SettingWithCopyWarning: \n",
      "A value is trying to be set on a copy of a slice from a DataFrame\n",
      "\n",
      "See the caveats in the documentation: https://pandas.pydata.org/pandas-docs/stable/user_guide/indexing.html#returning-a-view-versus-a-copy\n",
      "  self._setitem_single_block(indexer, value, name)\n"
     ]
    }
   ],
   "source": [
    "dftskill['sample'] = False\n",
    "k_to_sample = 300\n",
    "selected_indices = np.random.choice(len(dftskill), k_to_sample, replace=False)\n",
    "dftskill['sample'].iloc[selected_indices] = True"
   ]
  },
  {
   "cell_type": "code",
   "execution_count": 17,
   "metadata": {
    "colab": {
     "base_uri": "https://localhost:8080/",
     "height": 17
    },
    "id": "YcTp71iO02My",
    "outputId": "ff3cbbee-c9e4-4e8c-d794-7f010e0a00d4"
   },
   "outputs": [],
   "source": [
    "dftskill.to_csv('Image_quality_%s_%s.tsv'%(split, skill), sep='\\t', index=False)\n",
    "# files.download('Caption_training_%s.tsv'%skill)"
   ]
  },
  {
   "cell_type": "code",
   "execution_count": 18,
   "metadata": {},
   "outputs": [
    {
     "ename": "AssertionError",
     "evalue": "You shall not pass",
     "output_type": "error",
     "traceback": [
      "\u001b[0;31m---------------------------------------------------------------------------\u001b[0m",
      "\u001b[0;31mAssertionError\u001b[0m                            Traceback (most recent call last)",
      "\u001b[0;32m<ipython-input-18-cfb852b7db53>\u001b[0m in \u001b[0;36m<module>\u001b[0;34m\u001b[0m\n\u001b[0;32m----> 1\u001b[0;31m \u001b[0;32massert\u001b[0m \u001b[0;32mFalse\u001b[0m\u001b[0;34m,\u001b[0m \u001b[0;34m\"You shall not pass\"\u001b[0m\u001b[0;34m\u001b[0m\u001b[0;34m\u001b[0m\u001b[0m\n\u001b[0m",
      "\u001b[0;31mAssertionError\u001b[0m: You shall not pass"
     ]
    }
   ],
   "source": [
    "assert False, \"You shall not pass\""
   ]
  },
  {
   "cell_type": "code",
   "execution_count": null,
   "metadata": {
    "id": "rudabD6QCqEr"
   },
   "outputs": [],
   "source": [
    "dftest = df[df.split == 'test']\n",
    "\n",
    "for sk in ['gender', 'color', 'emotion', 'counting']:\n",
    "  capts, _ = checker.find_captions_skill(list_captions=dftest.caption, skill=sk)\n",
    "  dftestskill = dftest[dftest.caption.isin(capts)]\n",
    "  dftestskill.to_csv('Caption_testing_%s.tsv'%sk, sep='\\t', index=False)\n",
    "  files.download('Caption_testing_%s.tsv'%sk)"
   ]
  },
  {
   "cell_type": "code",
   "execution_count": null,
   "metadata": {},
   "outputs": [],
   "source": []
  }
 ],
 "metadata": {
  "colab": {
   "provenance": []
  },
  "kernelspec": {
   "display_name": "Python 3",
   "language": "python",
   "name": "python3"
  },
  "language_info": {
   "codemirror_mode": {
    "name": "ipython",
    "version": 3
   },
   "file_extension": ".py",
   "mimetype": "text/x-python",
   "name": "python",
   "nbconvert_exporter": "python",
   "pygments_lexer": "ipython3",
   "version": "3.7.5"
  }
 },
 "nbformat": 4,
 "nbformat_minor": 1
}
