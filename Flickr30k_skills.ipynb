{
  "nbformat": 4,
  "nbformat_minor": 0,
  "metadata": {
    "colab": {
      "provenance": []
    },
    "kernelspec": {
      "name": "python3",
      "display_name": "Python 3"
    },
    "language_info": {
      "name": "python"
    }
  },
  "cells": [
    {
      "cell_type": "code",
      "source": [
        "!pip install spacy"
      ],
      "metadata": {
        "id": "qIj0JJ9FhGL_",
        "colab": {
          "base_uri": "https://localhost:8080/"
        },
        "outputId": "1937653e-7e4e-43de-9eb8-83e7c6d18fb4"
      },
      "execution_count": 1,
      "outputs": [
        {
          "output_type": "stream",
          "name": "stdout",
          "text": [
            "Looking in indexes: https://pypi.org/simple, https://us-python.pkg.dev/colab-wheels/public/simple/\n",
            "Requirement already satisfied: spacy in /usr/local/lib/python3.8/dist-packages (3.4.4)\n",
            "Requirement already satisfied: requests<3.0.0,>=2.13.0 in /usr/local/lib/python3.8/dist-packages (from spacy) (2.25.1)\n",
            "Requirement already satisfied: murmurhash<1.1.0,>=0.28.0 in /usr/local/lib/python3.8/dist-packages (from spacy) (1.0.9)\n",
            "Requirement already satisfied: cymem<2.1.0,>=2.0.2 in /usr/local/lib/python3.8/dist-packages (from spacy) (2.0.7)\n",
            "Requirement already satisfied: catalogue<2.1.0,>=2.0.6 in /usr/local/lib/python3.8/dist-packages (from spacy) (2.0.8)\n",
            "Requirement already satisfied: thinc<8.2.0,>=8.1.0 in /usr/local/lib/python3.8/dist-packages (from spacy) (8.1.6)\n",
            "Requirement already satisfied: srsly<3.0.0,>=2.4.3 in /usr/local/lib/python3.8/dist-packages (from spacy) (2.4.5)\n",
            "Requirement already satisfied: smart-open<7.0.0,>=5.2.1 in /usr/local/lib/python3.8/dist-packages (from spacy) (6.3.0)\n",
            "Requirement already satisfied: langcodes<4.0.0,>=3.2.0 in /usr/local/lib/python3.8/dist-packages (from spacy) (3.3.0)\n",
            "Requirement already satisfied: setuptools in /usr/local/lib/python3.8/dist-packages (from spacy) (57.4.0)\n",
            "Requirement already satisfied: typer<0.8.0,>=0.3.0 in /usr/local/lib/python3.8/dist-packages (from spacy) (0.7.0)\n",
            "Requirement already satisfied: wasabi<1.1.0,>=0.9.1 in /usr/local/lib/python3.8/dist-packages (from spacy) (0.10.1)\n",
            "Requirement already satisfied: jinja2 in /usr/local/lib/python3.8/dist-packages (from spacy) (2.11.3)\n",
            "Requirement already satisfied: spacy-legacy<3.1.0,>=3.0.10 in /usr/local/lib/python3.8/dist-packages (from spacy) (3.0.11)\n",
            "Requirement already satisfied: tqdm<5.0.0,>=4.38.0 in /usr/local/lib/python3.8/dist-packages (from spacy) (4.64.1)\n",
            "Requirement already satisfied: pathy>=0.3.5 in /usr/local/lib/python3.8/dist-packages (from spacy) (0.10.1)\n",
            "Requirement already satisfied: numpy>=1.15.0 in /usr/local/lib/python3.8/dist-packages (from spacy) (1.21.6)\n",
            "Requirement already satisfied: packaging>=20.0 in /usr/local/lib/python3.8/dist-packages (from spacy) (21.3)\n",
            "Requirement already satisfied: spacy-loggers<2.0.0,>=1.0.0 in /usr/local/lib/python3.8/dist-packages (from spacy) (1.0.4)\n",
            "Requirement already satisfied: preshed<3.1.0,>=3.0.2 in /usr/local/lib/python3.8/dist-packages (from spacy) (3.0.8)\n",
            "Requirement already satisfied: pydantic!=1.8,!=1.8.1,<1.11.0,>=1.7.4 in /usr/local/lib/python3.8/dist-packages (from spacy) (1.10.4)\n",
            "Requirement already satisfied: pyparsing!=3.0.5,>=2.0.2 in /usr/local/lib/python3.8/dist-packages (from packaging>=20.0->spacy) (3.0.9)\n",
            "Requirement already satisfied: typing-extensions>=4.2.0 in /usr/local/lib/python3.8/dist-packages (from pydantic!=1.8,!=1.8.1,<1.11.0,>=1.7.4->spacy) (4.4.0)\n",
            "Requirement already satisfied: certifi>=2017.4.17 in /usr/local/lib/python3.8/dist-packages (from requests<3.0.0,>=2.13.0->spacy) (2022.12.7)\n",
            "Requirement already satisfied: idna<3,>=2.5 in /usr/local/lib/python3.8/dist-packages (from requests<3.0.0,>=2.13.0->spacy) (2.10)\n",
            "Requirement already satisfied: chardet<5,>=3.0.2 in /usr/local/lib/python3.8/dist-packages (from requests<3.0.0,>=2.13.0->spacy) (4.0.0)\n",
            "Requirement already satisfied: urllib3<1.27,>=1.21.1 in /usr/local/lib/python3.8/dist-packages (from requests<3.0.0,>=2.13.0->spacy) (1.24.3)\n",
            "Requirement already satisfied: confection<1.0.0,>=0.0.1 in /usr/local/lib/python3.8/dist-packages (from thinc<8.2.0,>=8.1.0->spacy) (0.0.3)\n",
            "Requirement already satisfied: blis<0.8.0,>=0.7.8 in /usr/local/lib/python3.8/dist-packages (from thinc<8.2.0,>=8.1.0->spacy) (0.7.9)\n",
            "Requirement already satisfied: click<9.0.0,>=7.1.1 in /usr/local/lib/python3.8/dist-packages (from typer<0.8.0,>=0.3.0->spacy) (7.1.2)\n",
            "Requirement already satisfied: MarkupSafe>=0.23 in /usr/local/lib/python3.8/dist-packages (from jinja2->spacy) (2.0.1)\n"
          ]
        }
      ]
    },
    {
      "cell_type": "code",
      "source": [
        "import os \n",
        "import pandas as pd \n",
        "import numpy as np\n",
        "from tqdm import tqdm\n",
        "from google.colab import files"
      ],
      "metadata": {
        "id": "-ndVS8W7rfEG"
      },
      "execution_count": 2,
      "outputs": []
    },
    {
      "cell_type": "code",
      "source": [
        "!wget https://cs.stanford.edu/people/karpathy/deepimagesent/caption_datasets.zip"
      ],
      "metadata": {
        "colab": {
          "base_uri": "https://localhost:8080/"
        },
        "id": "QzXHK1bVypRA",
        "outputId": "d40b4233-d42c-4904-923f-701b815cdcab"
      },
      "execution_count": 3,
      "outputs": [
        {
          "output_type": "stream",
          "name": "stdout",
          "text": [
            "--2023-01-16 15:20:17--  https://cs.stanford.edu/people/karpathy/deepimagesent/caption_datasets.zip\n",
            "Resolving cs.stanford.edu (cs.stanford.edu)... 171.64.64.64\n",
            "Connecting to cs.stanford.edu (cs.stanford.edu)|171.64.64.64|:443... connected.\n",
            "HTTP request sent, awaiting response... 200 OK\n",
            "Length: 36745453 (35M) [application/zip]\n",
            "Saving to: ‘caption_datasets.zip’\n",
            "\n",
            "caption_datasets.zi 100%[===================>]  35.04M  39.2MB/s    in 0.9s    \n",
            "\n",
            "2023-01-16 15:20:19 (39.2 MB/s) - ‘caption_datasets.zip’ saved [36745453/36745453]\n",
            "\n"
          ]
        }
      ]
    },
    {
      "cell_type": "code",
      "source": [
        "!unzip caption_datasets.zip -d caption_datasets"
      ],
      "metadata": {
        "colab": {
          "base_uri": "https://localhost:8080/"
        },
        "id": "VMEtt9kPzBOx",
        "outputId": "55c2ff1e-e5d4-4523-fbee-b17449b200ce"
      },
      "execution_count": 4,
      "outputs": [
        {
          "output_type": "stream",
          "name": "stdout",
          "text": [
            "Archive:  caption_datasets.zip\n",
            "  inflating: caption_datasets/dataset_coco.json  \n",
            "  inflating: caption_datasets/dataset_flickr30k.json  \n",
            "  inflating: caption_datasets/dataset_flickr8k.json  \n"
          ]
        }
      ]
    },
    {
      "cell_type": "code",
      "source": [
        "dfjson = pd.read_json('./caption_datasets/dataset_flickr30k.json')\n",
        "\n",
        "list_df = [('image_ID', 'caption_ID', 'caption', 'split')]\n",
        "\n",
        "for k_img in range(len(dfjson['images'])):\n",
        "    dict_img = dfjson['images'][k_img]\n",
        "    imgid = dict_img['filename'].split('.')[0]\n",
        "    split = dict_img['split']\n",
        "    text = dict_img['sentences']\n",
        "    # for each caption\n",
        "    for capt in text:\n",
        "        # IID, CID, caption, split\n",
        "        list_df.append((imgid, capt['sentid'], capt['raw'], split))\n",
        "        \n",
        "df = pd.DataFrame(list_df[1:], columns=list_df[0])#.set_index(['IID', 'CID'])\n",
        "df"
      ],
      "metadata": {
        "colab": {
          "base_uri": "https://localhost:8080/",
          "height": 424
        },
        "id": "8H4w5ICuzIGJ",
        "outputId": "1fe029c1-3d1d-4069-9163-6b6dea3064c7"
      },
      "execution_count": 5,
      "outputs": [
        {
          "output_type": "execute_result",
          "data": {
            "text/plain": [
              "          image_ID  caption_ID  \\\n",
              "0       1000092795           0   \n",
              "1       1000092795           1   \n",
              "2       1000092795           2   \n",
              "3       1000092795           3   \n",
              "4       1000092795           4   \n",
              "...            ...         ...   \n",
              "155065   998845445      155065   \n",
              "155066   998845445      155066   \n",
              "155067   998845445      155067   \n",
              "155068   998845445      155068   \n",
              "155069   998845445      155069   \n",
              "\n",
              "                                                  caption  split  \n",
              "0       Two young guys with shaggy hair look at their ...  train  \n",
              "1       Two young, White males are outside near many b...  train  \n",
              "2         Two men in green shirts are standing in a yard.  train  \n",
              "3             A man in a blue shirt standing in a garden.  train  \n",
              "4                  Two friends enjoy time spent together.  train  \n",
              "...                                                   ...    ...  \n",
              "155065  A man in shorts and a Hawaiian shirt leans ove...  train  \n",
              "155066  A young man hanging over the side of a boat, w...  train  \n",
              "155067  A man is leaning off of the side of a blue and...  train  \n",
              "155068  A man riding a small boat in a harbor, with fo...  train  \n",
              "155069  A man on a moored blue and white boat with hil...  train  \n",
              "\n",
              "[155070 rows x 4 columns]"
            ],
            "text/html": [
              "\n",
              "  <div id=\"df-46a530e3-7ecd-4bf7-81c1-d73fd1f7523c\">\n",
              "    <div class=\"colab-df-container\">\n",
              "      <div>\n",
              "<style scoped>\n",
              "    .dataframe tbody tr th:only-of-type {\n",
              "        vertical-align: middle;\n",
              "    }\n",
              "\n",
              "    .dataframe tbody tr th {\n",
              "        vertical-align: top;\n",
              "    }\n",
              "\n",
              "    .dataframe thead th {\n",
              "        text-align: right;\n",
              "    }\n",
              "</style>\n",
              "<table border=\"1\" class=\"dataframe\">\n",
              "  <thead>\n",
              "    <tr style=\"text-align: right;\">\n",
              "      <th></th>\n",
              "      <th>image_ID</th>\n",
              "      <th>caption_ID</th>\n",
              "      <th>caption</th>\n",
              "      <th>split</th>\n",
              "    </tr>\n",
              "  </thead>\n",
              "  <tbody>\n",
              "    <tr>\n",
              "      <th>0</th>\n",
              "      <td>1000092795</td>\n",
              "      <td>0</td>\n",
              "      <td>Two young guys with shaggy hair look at their ...</td>\n",
              "      <td>train</td>\n",
              "    </tr>\n",
              "    <tr>\n",
              "      <th>1</th>\n",
              "      <td>1000092795</td>\n",
              "      <td>1</td>\n",
              "      <td>Two young, White males are outside near many b...</td>\n",
              "      <td>train</td>\n",
              "    </tr>\n",
              "    <tr>\n",
              "      <th>2</th>\n",
              "      <td>1000092795</td>\n",
              "      <td>2</td>\n",
              "      <td>Two men in green shirts are standing in a yard.</td>\n",
              "      <td>train</td>\n",
              "    </tr>\n",
              "    <tr>\n",
              "      <th>3</th>\n",
              "      <td>1000092795</td>\n",
              "      <td>3</td>\n",
              "      <td>A man in a blue shirt standing in a garden.</td>\n",
              "      <td>train</td>\n",
              "    </tr>\n",
              "    <tr>\n",
              "      <th>4</th>\n",
              "      <td>1000092795</td>\n",
              "      <td>4</td>\n",
              "      <td>Two friends enjoy time spent together.</td>\n",
              "      <td>train</td>\n",
              "    </tr>\n",
              "    <tr>\n",
              "      <th>...</th>\n",
              "      <td>...</td>\n",
              "      <td>...</td>\n",
              "      <td>...</td>\n",
              "      <td>...</td>\n",
              "    </tr>\n",
              "    <tr>\n",
              "      <th>155065</th>\n",
              "      <td>998845445</td>\n",
              "      <td>155065</td>\n",
              "      <td>A man in shorts and a Hawaiian shirt leans ove...</td>\n",
              "      <td>train</td>\n",
              "    </tr>\n",
              "    <tr>\n",
              "      <th>155066</th>\n",
              "      <td>998845445</td>\n",
              "      <td>155066</td>\n",
              "      <td>A young man hanging over the side of a boat, w...</td>\n",
              "      <td>train</td>\n",
              "    </tr>\n",
              "    <tr>\n",
              "      <th>155067</th>\n",
              "      <td>998845445</td>\n",
              "      <td>155067</td>\n",
              "      <td>A man is leaning off of the side of a blue and...</td>\n",
              "      <td>train</td>\n",
              "    </tr>\n",
              "    <tr>\n",
              "      <th>155068</th>\n",
              "      <td>998845445</td>\n",
              "      <td>155068</td>\n",
              "      <td>A man riding a small boat in a harbor, with fo...</td>\n",
              "      <td>train</td>\n",
              "    </tr>\n",
              "    <tr>\n",
              "      <th>155069</th>\n",
              "      <td>998845445</td>\n",
              "      <td>155069</td>\n",
              "      <td>A man on a moored blue and white boat with hil...</td>\n",
              "      <td>train</td>\n",
              "    </tr>\n",
              "  </tbody>\n",
              "</table>\n",
              "<p>155070 rows × 4 columns</p>\n",
              "</div>\n",
              "      <button class=\"colab-df-convert\" onclick=\"convertToInteractive('df-46a530e3-7ecd-4bf7-81c1-d73fd1f7523c')\"\n",
              "              title=\"Convert this dataframe to an interactive table.\"\n",
              "              style=\"display:none;\">\n",
              "        \n",
              "  <svg xmlns=\"http://www.w3.org/2000/svg\" height=\"24px\"viewBox=\"0 0 24 24\"\n",
              "       width=\"24px\">\n",
              "    <path d=\"M0 0h24v24H0V0z\" fill=\"none\"/>\n",
              "    <path d=\"M18.56 5.44l.94 2.06.94-2.06 2.06-.94-2.06-.94-.94-2.06-.94 2.06-2.06.94zm-11 1L8.5 8.5l.94-2.06 2.06-.94-2.06-.94L8.5 2.5l-.94 2.06-2.06.94zm10 10l.94 2.06.94-2.06 2.06-.94-2.06-.94-.94-2.06-.94 2.06-2.06.94z\"/><path d=\"M17.41 7.96l-1.37-1.37c-.4-.4-.92-.59-1.43-.59-.52 0-1.04.2-1.43.59L10.3 9.45l-7.72 7.72c-.78.78-.78 2.05 0 2.83L4 21.41c.39.39.9.59 1.41.59.51 0 1.02-.2 1.41-.59l7.78-7.78 2.81-2.81c.8-.78.8-2.07 0-2.86zM5.41 20L4 18.59l7.72-7.72 1.47 1.35L5.41 20z\"/>\n",
              "  </svg>\n",
              "      </button>\n",
              "      \n",
              "  <style>\n",
              "    .colab-df-container {\n",
              "      display:flex;\n",
              "      flex-wrap:wrap;\n",
              "      gap: 12px;\n",
              "    }\n",
              "\n",
              "    .colab-df-convert {\n",
              "      background-color: #E8F0FE;\n",
              "      border: none;\n",
              "      border-radius: 50%;\n",
              "      cursor: pointer;\n",
              "      display: none;\n",
              "      fill: #1967D2;\n",
              "      height: 32px;\n",
              "      padding: 0 0 0 0;\n",
              "      width: 32px;\n",
              "    }\n",
              "\n",
              "    .colab-df-convert:hover {\n",
              "      background-color: #E2EBFA;\n",
              "      box-shadow: 0px 1px 2px rgba(60, 64, 67, 0.3), 0px 1px 3px 1px rgba(60, 64, 67, 0.15);\n",
              "      fill: #174EA6;\n",
              "    }\n",
              "\n",
              "    [theme=dark] .colab-df-convert {\n",
              "      background-color: #3B4455;\n",
              "      fill: #D2E3FC;\n",
              "    }\n",
              "\n",
              "    [theme=dark] .colab-df-convert:hover {\n",
              "      background-color: #434B5C;\n",
              "      box-shadow: 0px 1px 3px 1px rgba(0, 0, 0, 0.15);\n",
              "      filter: drop-shadow(0px 1px 2px rgba(0, 0, 0, 0.3));\n",
              "      fill: #FFFFFF;\n",
              "    }\n",
              "  </style>\n",
              "\n",
              "      <script>\n",
              "        const buttonEl =\n",
              "          document.querySelector('#df-46a530e3-7ecd-4bf7-81c1-d73fd1f7523c button.colab-df-convert');\n",
              "        buttonEl.style.display =\n",
              "          google.colab.kernel.accessAllowed ? 'block' : 'none';\n",
              "\n",
              "        async function convertToInteractive(key) {\n",
              "          const element = document.querySelector('#df-46a530e3-7ecd-4bf7-81c1-d73fd1f7523c');\n",
              "          const dataTable =\n",
              "            await google.colab.kernel.invokeFunction('convertToInteractive',\n",
              "                                                     [key], {});\n",
              "          if (!dataTable) return;\n",
              "\n",
              "          const docLinkHtml = 'Like what you see? Visit the ' +\n",
              "            '<a target=\"_blank\" href=https://colab.research.google.com/notebooks/data_table.ipynb>data table notebook</a>'\n",
              "            + ' to learn more about interactive tables.';\n",
              "          element.innerHTML = '';\n",
              "          dataTable['output_type'] = 'display_data';\n",
              "          await google.colab.output.renderOutput(dataTable, element);\n",
              "          const docLink = document.createElement('div');\n",
              "          docLink.innerHTML = docLinkHtml;\n",
              "          element.appendChild(docLink);\n",
              "        }\n",
              "      </script>\n",
              "    </div>\n",
              "  </div>\n",
              "  "
            ]
          },
          "metadata": {},
          "execution_count": 5
        }
      ]
    },
    {
      "cell_type": "code",
      "source": [
        "df.to_csv('Caption_all.tsv', sep='\\t', index=False)\n",
        "files.download('Caption_all.tsv')"
      ],
      "metadata": {
        "colab": {
          "base_uri": "https://localhost:8080/",
          "height": 17
        },
        "id": "lQbh2rUP-Pad",
        "outputId": "0b8faf9f-750a-49e8-cad5-4293dbf27742"
      },
      "execution_count": null,
      "outputs": [
        {
          "output_type": "display_data",
          "data": {
            "text/plain": [
              "<IPython.core.display.Javascript object>"
            ],
            "application/javascript": [
              "\n",
              "    async function download(id, filename, size) {\n",
              "      if (!google.colab.kernel.accessAllowed) {\n",
              "        return;\n",
              "      }\n",
              "      const div = document.createElement('div');\n",
              "      const label = document.createElement('label');\n",
              "      label.textContent = `Downloading \"${filename}\": `;\n",
              "      div.appendChild(label);\n",
              "      const progress = document.createElement('progress');\n",
              "      progress.max = size;\n",
              "      div.appendChild(progress);\n",
              "      document.body.appendChild(div);\n",
              "\n",
              "      const buffers = [];\n",
              "      let downloaded = 0;\n",
              "\n",
              "      const channel = await google.colab.kernel.comms.open(id);\n",
              "      // Send a message to notify the kernel that we're ready.\n",
              "      channel.send({})\n",
              "\n",
              "      for await (const message of channel.messages) {\n",
              "        // Send a message to notify the kernel that we're ready.\n",
              "        channel.send({})\n",
              "        if (message.buffers) {\n",
              "          for (const buffer of message.buffers) {\n",
              "            buffers.push(buffer);\n",
              "            downloaded += buffer.byteLength;\n",
              "            progress.value = downloaded;\n",
              "          }\n",
              "        }\n",
              "      }\n",
              "      const blob = new Blob(buffers, {type: 'application/binary'});\n",
              "      const a = document.createElement('a');\n",
              "      a.href = window.URL.createObjectURL(blob);\n",
              "      a.download = filename;\n",
              "      div.appendChild(a);\n",
              "      a.click();\n",
              "      div.remove();\n",
              "    }\n",
              "  "
            ]
          },
          "metadata": {}
        },
        {
          "output_type": "display_data",
          "data": {
            "text/plain": [
              "<IPython.core.display.Javascript object>"
            ],
            "application/javascript": [
              "download(\"download_91c48b9c-d7bf-4dc8-a2e6-9f1b7e740b38\", \"Caption_all.tsv\", 13515838)"
            ]
          },
          "metadata": {}
        }
      ]
    },
    {
      "cell_type": "markdown",
      "source": [
        "# Skills"
      ],
      "metadata": {
        "id": "Ku71YKzJrxl4"
      }
    },
    {
      "cell_type": "code",
      "source": [
        "from skillschecker import skillsChecker"
      ],
      "metadata": {
        "id": "_gFHkD-KCu_F",
        "colab": {
          "base_uri": "https://localhost:8080/"
        },
        "outputId": "7bab131b-dd1e-43c3-9f12-5717ac0238bc"
      },
      "execution_count": 6,
      "outputs": [
        {
          "output_type": "stream",
          "name": "stderr",
          "text": [
            "/usr/local/lib/python3.8/dist-packages/torch/cuda/__init__.py:497: UserWarning: Can't initialize NVML\n",
            "  warnings.warn(\"Can't initialize NVML\")\n"
          ]
        }
      ]
    },
    {
      "cell_type": "code",
      "source": [
        "checker = skillsChecker()\n",
        "list_captions = df.caption.values\n",
        "dft = df[df.split == 'train']\n",
        "skill = 'gender'"
      ],
      "metadata": {
        "id": "_y61psihzNxe"
      },
      "execution_count": 7,
      "outputs": []
    },
    {
      "cell_type": "code",
      "source": [
        "list_tuple_new_captions, wds = checker.change_captions_skill(list_captions=dft.caption, skill=skill, verbose=True)"
      ],
      "metadata": {
        "colab": {
          "base_uri": "https://localhost:8080/"
        },
        "id": "8rHDmBQ_1VmC",
        "outputId": "22e916e5-3715-4150-a151-04e2f9f64941"
      },
      "execution_count": null,
      "outputs": [
        {
          "output_type": "stream",
          "name": "stderr",
          "text": [
            "100%|██████████| 36/36 [00:00<00:00, 3308.46it/s]\n",
            "30it [00:00, 978.84it/s]\n"
          ]
        },
        {
          "output_type": "execute_result",
          "data": {
            "text/plain": [
              "[('A man holds a large stuffed lion toy.',\n",
              "  ['A woman holds a large stuffed lion toy.']),\n",
              " ('A man is smiling at a stuffed lion',\n",
              "  ['A woman is smiling at a stuffed lion']),\n",
              " ('A girl is on rollerskates talking on her cellphone standing in a parking lot.',\n",
              "  ['A boy is on rollerskates talking on his cellphone standing in a parking lot.'])]"
            ]
          },
          "metadata": {},
          "execution_count": 10
        }
      ]
    },
    {
      "cell_type": "code",
      "source": [
        "list_tuple_new_captions, wds = checker.change_captions_skill(list_captions=dft.caption, skill=skill, verbose=True)\n",
        "\n",
        "capt_selected = [k[0] for k in list_tuple_new_captions]\n",
        "dftskill = dft[dft.caption.isin(capt_selected)]"
      ],
      "metadata": {
        "id": "0pdhjpozzlya",
        "colab": {
          "base_uri": "https://localhost:8080/"
        },
        "outputId": "bea98d87-c896-4aa0-e9b3-0bbbb1b5fc77"
      },
      "execution_count": null,
      "outputs": [
        {
          "output_type": "stream",
          "name": "stderr",
          "text": [
            "100%|██████████| 145000/145000 [00:20<00:00, 7101.07it/s]\n",
            "83164it [00:58, 1416.94it/s]\n"
          ]
        }
      ]
    },
    {
      "cell_type": "code",
      "source": [
        "dftskill['word_detected'] = wds\n",
        "dftskill['augmented_captions'] = [k[1] for k in list_tuple_new_captions]"
      ],
      "metadata": {
        "colab": {
          "base_uri": "https://localhost:8080/"
        },
        "id": "_IcNAWv70j1j",
        "outputId": "def72a68-2dc8-42cf-dbe6-131276b4af7d"
      },
      "execution_count": null,
      "outputs": [
        {
          "output_type": "stream",
          "name": "stderr",
          "text": [
            "<ipython-input-12-ceae633accf5>:1: SettingWithCopyWarning: \n",
            "A value is trying to be set on a copy of a slice from a DataFrame.\n",
            "Try using .loc[row_indexer,col_indexer] = value instead\n",
            "\n",
            "See the caveats in the documentation: https://pandas.pydata.org/pandas-docs/stable/user_guide/indexing.html#returning-a-view-versus-a-copy\n",
            "  dftskill['word_detected'] = wds\n",
            "<ipython-input-12-ceae633accf5>:2: SettingWithCopyWarning: \n",
            "A value is trying to be set on a copy of a slice from a DataFrame.\n",
            "Try using .loc[row_indexer,col_indexer] = value instead\n",
            "\n",
            "See the caveats in the documentation: https://pandas.pydata.org/pandas-docs/stable/user_guide/indexing.html#returning-a-view-versus-a-copy\n",
            "  dftskill['augmented_captions'] = [k[1] for k in list_tuple_new_captions]\n"
          ]
        }
      ]
    },
    {
      "cell_type": "code",
      "source": [
        "import spacy \n",
        "nlp = spacy.load(\"en_core_web_sm\")\n",
        "\n",
        "def find_prompt(x):\n",
        "    \"\"\"\n",
        "    \"\"\"\n",
        "    prompt_segmentation = []\n",
        "    doc = nlp(x['caption'])\n",
        "    for wd in x['word_detected']:\n",
        "        list_candidates = [k.text for k in doc.noun_chunks if wd in k.text.lower()]\n",
        "        if len(list_candidates) > 1:\n",
        "            prompt_segmentation.append('')\n",
        "        elif len(list_candidates) == 0:\n",
        "            prompt_segmentation.append(wd)\n",
        "        else:\n",
        "            prompt_segmentation.append(list_candidates[0])\n",
        "    return prompt_segmentation"
      ],
      "metadata": {
        "id": "1D_SGrjqmsmQ"
      },
      "execution_count": null,
      "outputs": []
    },
    {
      "cell_type": "code",
      "source": [
        "dftskill['prompt_segmentation'] = dftskill.apply(find_prompt, axis=1)"
      ],
      "metadata": {
        "id": "ZFFqp6T2vjUJ"
      },
      "execution_count": null,
      "outputs": []
    },
    {
      "cell_type": "code",
      "source": [
        "# Only keep when the noun phrase has been detected\n",
        "dftskill = dftskill[dftskill['prompt_segmentation'].map(lambda x: np.mean([len(k) > 0 for k in x]) == 1)]"
      ],
      "metadata": {
        "id": "irUs-gvJDPi5"
      },
      "execution_count": 21,
      "outputs": []
    },
    {
      "cell_type": "code",
      "source": [
        "dftskill"
      ],
      "metadata": {
        "colab": {
          "base_uri": "https://localhost:8080/",
          "height": 641
        },
        "id": "meE___Sn3BRM",
        "outputId": "7cb9f0c0-ac72-4133-d1eb-3e2e80851c81"
      },
      "execution_count": 22,
      "outputs": [
        {
          "output_type": "execute_result",
          "data": {
            "text/plain": [
              "         image_ID  caption_ID  \\\n",
              "0      1000092795           0   \n",
              "1      1000092795           2   \n",
              "2      1000092795           3   \n",
              "3        10002456           5   \n",
              "4        10002456           7   \n",
              "...           ...         ...   \n",
              "83159   998845445      155065   \n",
              "83160   998845445      155066   \n",
              "83161   998845445      155067   \n",
              "83162   998845445      155068   \n",
              "83163   998845445      155069   \n",
              "\n",
              "                                                 caption  split word_detected  \\\n",
              "0      Two young guys with shaggy hair look at their ...  train      ['guys']   \n",
              "1        Two men in green shirts are standing in a yard.  train       ['men']   \n",
              "2            A man in a blue shirt standing in a garden.  train       ['man']   \n",
              "3      Several men in hard hats are operating a giant...  train       ['men']   \n",
              "4        Two men working on a machine wearing hard hats.  train       ['men']   \n",
              "...                                                  ...    ...           ...   \n",
              "83159  A man in shorts and a Hawaiian shirt leans ove...  train       ['man']   \n",
              "83160  A young man hanging over the side of a boat, w...  train       ['man']   \n",
              "83161  A man is leaning off of the side of a blue and...  train       ['man']   \n",
              "83162  A man riding a small boat in a harbor, with fo...  train       ['man']   \n",
              "83163  A man on a moored blue and white boat with hil...  train       ['man']   \n",
              "\n",
              "                                      augmented_captions prompt_segmentation  \n",
              "0      ['Two young girls with shaggy hair look at the...    [Two young guys]  \n",
              "1      ['Two women in green shirts are standing in a ...           [Two men]  \n",
              "2      ['A woman in a blue shirt standing in a garden.']             [A man]  \n",
              "3      ['Several women in hard hats are operating a g...       [Several men]  \n",
              "4      ['Two women working on a machine wearing hard ...           [Two men]  \n",
              "...                                                  ...                 ...  \n",
              "83159  ['A woman in shorts and a Hawaiian shirt leans...             [A man]  \n",
              "83160  ['A young woman hanging over the side of a boa...       [A young man]  \n",
              "83161  ['A woman is leaning off of the side of a blue...             [A man]  \n",
              "83162  ['A woman riding a small boat in a harbor, wit...             [A man]  \n",
              "83163  ['A woman on a moored blue and white boat with...             [A man]  \n",
              "\n",
              "[75494 rows x 7 columns]"
            ],
            "text/html": [
              "\n",
              "  <div id=\"df-db218d81-963a-4d3a-815c-55db565650bf\">\n",
              "    <div class=\"colab-df-container\">\n",
              "      <div>\n",
              "<style scoped>\n",
              "    .dataframe tbody tr th:only-of-type {\n",
              "        vertical-align: middle;\n",
              "    }\n",
              "\n",
              "    .dataframe tbody tr th {\n",
              "        vertical-align: top;\n",
              "    }\n",
              "\n",
              "    .dataframe thead th {\n",
              "        text-align: right;\n",
              "    }\n",
              "</style>\n",
              "<table border=\"1\" class=\"dataframe\">\n",
              "  <thead>\n",
              "    <tr style=\"text-align: right;\">\n",
              "      <th></th>\n",
              "      <th>image_ID</th>\n",
              "      <th>caption_ID</th>\n",
              "      <th>caption</th>\n",
              "      <th>split</th>\n",
              "      <th>word_detected</th>\n",
              "      <th>augmented_captions</th>\n",
              "      <th>prompt_segmentation</th>\n",
              "    </tr>\n",
              "  </thead>\n",
              "  <tbody>\n",
              "    <tr>\n",
              "      <th>0</th>\n",
              "      <td>1000092795</td>\n",
              "      <td>0</td>\n",
              "      <td>Two young guys with shaggy hair look at their ...</td>\n",
              "      <td>train</td>\n",
              "      <td>['guys']</td>\n",
              "      <td>['Two young girls with shaggy hair look at the...</td>\n",
              "      <td>[Two young guys]</td>\n",
              "    </tr>\n",
              "    <tr>\n",
              "      <th>1</th>\n",
              "      <td>1000092795</td>\n",
              "      <td>2</td>\n",
              "      <td>Two men in green shirts are standing in a yard.</td>\n",
              "      <td>train</td>\n",
              "      <td>['men']</td>\n",
              "      <td>['Two women in green shirts are standing in a ...</td>\n",
              "      <td>[Two men]</td>\n",
              "    </tr>\n",
              "    <tr>\n",
              "      <th>2</th>\n",
              "      <td>1000092795</td>\n",
              "      <td>3</td>\n",
              "      <td>A man in a blue shirt standing in a garden.</td>\n",
              "      <td>train</td>\n",
              "      <td>['man']</td>\n",
              "      <td>['A woman in a blue shirt standing in a garden.']</td>\n",
              "      <td>[A man]</td>\n",
              "    </tr>\n",
              "    <tr>\n",
              "      <th>3</th>\n",
              "      <td>10002456</td>\n",
              "      <td>5</td>\n",
              "      <td>Several men in hard hats are operating a giant...</td>\n",
              "      <td>train</td>\n",
              "      <td>['men']</td>\n",
              "      <td>['Several women in hard hats are operating a g...</td>\n",
              "      <td>[Several men]</td>\n",
              "    </tr>\n",
              "    <tr>\n",
              "      <th>4</th>\n",
              "      <td>10002456</td>\n",
              "      <td>7</td>\n",
              "      <td>Two men working on a machine wearing hard hats.</td>\n",
              "      <td>train</td>\n",
              "      <td>['men']</td>\n",
              "      <td>['Two women working on a machine wearing hard ...</td>\n",
              "      <td>[Two men]</td>\n",
              "    </tr>\n",
              "    <tr>\n",
              "      <th>...</th>\n",
              "      <td>...</td>\n",
              "      <td>...</td>\n",
              "      <td>...</td>\n",
              "      <td>...</td>\n",
              "      <td>...</td>\n",
              "      <td>...</td>\n",
              "      <td>...</td>\n",
              "    </tr>\n",
              "    <tr>\n",
              "      <th>83159</th>\n",
              "      <td>998845445</td>\n",
              "      <td>155065</td>\n",
              "      <td>A man in shorts and a Hawaiian shirt leans ove...</td>\n",
              "      <td>train</td>\n",
              "      <td>['man']</td>\n",
              "      <td>['A woman in shorts and a Hawaiian shirt leans...</td>\n",
              "      <td>[A man]</td>\n",
              "    </tr>\n",
              "    <tr>\n",
              "      <th>83160</th>\n",
              "      <td>998845445</td>\n",
              "      <td>155066</td>\n",
              "      <td>A young man hanging over the side of a boat, w...</td>\n",
              "      <td>train</td>\n",
              "      <td>['man']</td>\n",
              "      <td>['A young woman hanging over the side of a boa...</td>\n",
              "      <td>[A young man]</td>\n",
              "    </tr>\n",
              "    <tr>\n",
              "      <th>83161</th>\n",
              "      <td>998845445</td>\n",
              "      <td>155067</td>\n",
              "      <td>A man is leaning off of the side of a blue and...</td>\n",
              "      <td>train</td>\n",
              "      <td>['man']</td>\n",
              "      <td>['A woman is leaning off of the side of a blue...</td>\n",
              "      <td>[A man]</td>\n",
              "    </tr>\n",
              "    <tr>\n",
              "      <th>83162</th>\n",
              "      <td>998845445</td>\n",
              "      <td>155068</td>\n",
              "      <td>A man riding a small boat in a harbor, with fo...</td>\n",
              "      <td>train</td>\n",
              "      <td>['man']</td>\n",
              "      <td>['A woman riding a small boat in a harbor, wit...</td>\n",
              "      <td>[A man]</td>\n",
              "    </tr>\n",
              "    <tr>\n",
              "      <th>83163</th>\n",
              "      <td>998845445</td>\n",
              "      <td>155069</td>\n",
              "      <td>A man on a moored blue and white boat with hil...</td>\n",
              "      <td>train</td>\n",
              "      <td>['man']</td>\n",
              "      <td>['A woman on a moored blue and white boat with...</td>\n",
              "      <td>[A man]</td>\n",
              "    </tr>\n",
              "  </tbody>\n",
              "</table>\n",
              "<p>75494 rows × 7 columns</p>\n",
              "</div>\n",
              "      <button class=\"colab-df-convert\" onclick=\"convertToInteractive('df-db218d81-963a-4d3a-815c-55db565650bf')\"\n",
              "              title=\"Convert this dataframe to an interactive table.\"\n",
              "              style=\"display:none;\">\n",
              "        \n",
              "  <svg xmlns=\"http://www.w3.org/2000/svg\" height=\"24px\"viewBox=\"0 0 24 24\"\n",
              "       width=\"24px\">\n",
              "    <path d=\"M0 0h24v24H0V0z\" fill=\"none\"/>\n",
              "    <path d=\"M18.56 5.44l.94 2.06.94-2.06 2.06-.94-2.06-.94-.94-2.06-.94 2.06-2.06.94zm-11 1L8.5 8.5l.94-2.06 2.06-.94-2.06-.94L8.5 2.5l-.94 2.06-2.06.94zm10 10l.94 2.06.94-2.06 2.06-.94-2.06-.94-.94-2.06-.94 2.06-2.06.94z\"/><path d=\"M17.41 7.96l-1.37-1.37c-.4-.4-.92-.59-1.43-.59-.52 0-1.04.2-1.43.59L10.3 9.45l-7.72 7.72c-.78.78-.78 2.05 0 2.83L4 21.41c.39.39.9.59 1.41.59.51 0 1.02-.2 1.41-.59l7.78-7.78 2.81-2.81c.8-.78.8-2.07 0-2.86zM5.41 20L4 18.59l7.72-7.72 1.47 1.35L5.41 20z\"/>\n",
              "  </svg>\n",
              "      </button>\n",
              "      \n",
              "  <style>\n",
              "    .colab-df-container {\n",
              "      display:flex;\n",
              "      flex-wrap:wrap;\n",
              "      gap: 12px;\n",
              "    }\n",
              "\n",
              "    .colab-df-convert {\n",
              "      background-color: #E8F0FE;\n",
              "      border: none;\n",
              "      border-radius: 50%;\n",
              "      cursor: pointer;\n",
              "      display: none;\n",
              "      fill: #1967D2;\n",
              "      height: 32px;\n",
              "      padding: 0 0 0 0;\n",
              "      width: 32px;\n",
              "    }\n",
              "\n",
              "    .colab-df-convert:hover {\n",
              "      background-color: #E2EBFA;\n",
              "      box-shadow: 0px 1px 2px rgba(60, 64, 67, 0.3), 0px 1px 3px 1px rgba(60, 64, 67, 0.15);\n",
              "      fill: #174EA6;\n",
              "    }\n",
              "\n",
              "    [theme=dark] .colab-df-convert {\n",
              "      background-color: #3B4455;\n",
              "      fill: #D2E3FC;\n",
              "    }\n",
              "\n",
              "    [theme=dark] .colab-df-convert:hover {\n",
              "      background-color: #434B5C;\n",
              "      box-shadow: 0px 1px 3px 1px rgba(0, 0, 0, 0.15);\n",
              "      filter: drop-shadow(0px 1px 2px rgba(0, 0, 0, 0.3));\n",
              "      fill: #FFFFFF;\n",
              "    }\n",
              "  </style>\n",
              "\n",
              "      <script>\n",
              "        const buttonEl =\n",
              "          document.querySelector('#df-db218d81-963a-4d3a-815c-55db565650bf button.colab-df-convert');\n",
              "        buttonEl.style.display =\n",
              "          google.colab.kernel.accessAllowed ? 'block' : 'none';\n",
              "\n",
              "        async function convertToInteractive(key) {\n",
              "          const element = document.querySelector('#df-db218d81-963a-4d3a-815c-55db565650bf');\n",
              "          const dataTable =\n",
              "            await google.colab.kernel.invokeFunction('convertToInteractive',\n",
              "                                                     [key], {});\n",
              "          if (!dataTable) return;\n",
              "\n",
              "          const docLinkHtml = 'Like what you see? Visit the ' +\n",
              "            '<a target=\"_blank\" href=https://colab.research.google.com/notebooks/data_table.ipynb>data table notebook</a>'\n",
              "            + ' to learn more about interactive tables.';\n",
              "          element.innerHTML = '';\n",
              "          dataTable['output_type'] = 'display_data';\n",
              "          await google.colab.output.renderOutput(dataTable, element);\n",
              "          const docLink = document.createElement('div');\n",
              "          docLink.innerHTML = docLinkHtml;\n",
              "          element.appendChild(docLink);\n",
              "        }\n",
              "      </script>\n",
              "    </div>\n",
              "  </div>\n",
              "  "
            ]
          },
          "metadata": {},
          "execution_count": 22
        }
      ]
    },
    {
      "cell_type": "code",
      "source": [
        "dftskill.to_csv('Caption_training_%s.tsv'%skill, sep='\\t', index=False)\n",
        "files.download('Caption_training_%s.tsv'%skill)"
      ],
      "metadata": {
        "id": "YcTp71iO02My",
        "colab": {
          "base_uri": "https://localhost:8080/",
          "height": 17
        },
        "outputId": "ff3cbbee-c9e4-4e8c-d794-7f010e0a00d4"
      },
      "execution_count": null,
      "outputs": [
        {
          "output_type": "display_data",
          "data": {
            "text/plain": [
              "<IPython.core.display.Javascript object>"
            ],
            "application/javascript": [
              "\n",
              "    async function download(id, filename, size) {\n",
              "      if (!google.colab.kernel.accessAllowed) {\n",
              "        return;\n",
              "      }\n",
              "      const div = document.createElement('div');\n",
              "      const label = document.createElement('label');\n",
              "      label.textContent = `Downloading \"${filename}\": `;\n",
              "      div.appendChild(label);\n",
              "      const progress = document.createElement('progress');\n",
              "      progress.max = size;\n",
              "      div.appendChild(progress);\n",
              "      document.body.appendChild(div);\n",
              "\n",
              "      const buffers = [];\n",
              "      let downloaded = 0;\n",
              "\n",
              "      const channel = await google.colab.kernel.comms.open(id);\n",
              "      // Send a message to notify the kernel that we're ready.\n",
              "      channel.send({})\n",
              "\n",
              "      for await (const message of channel.messages) {\n",
              "        // Send a message to notify the kernel that we're ready.\n",
              "        channel.send({})\n",
              "        if (message.buffers) {\n",
              "          for (const buffer of message.buffers) {\n",
              "            buffers.push(buffer);\n",
              "            downloaded += buffer.byteLength;\n",
              "            progress.value = downloaded;\n",
              "          }\n",
              "        }\n",
              "      }\n",
              "      const blob = new Blob(buffers, {type: 'application/binary'});\n",
              "      const a = document.createElement('a');\n",
              "      a.href = window.URL.createObjectURL(blob);\n",
              "      a.download = filename;\n",
              "      div.appendChild(a);\n",
              "      a.click();\n",
              "      div.remove();\n",
              "    }\n",
              "  "
            ]
          },
          "metadata": {}
        },
        {
          "output_type": "display_data",
          "data": {
            "text/plain": [
              "<IPython.core.display.Javascript object>"
            ],
            "application/javascript": [
              "download(\"download_be61f815-d0db-4773-9d0d-7fcbe8fbb9aa\", \"Caption_training_gender.tsv\", 16215246)"
            ]
          },
          "metadata": {}
        }
      ]
    },
    {
      "cell_type": "code",
      "source": [
        "dftest = df[df.split == 'test']\n",
        "\n",
        "for sk in ['gender', 'color', 'emotion', 'counting']:\n",
        "  capts, _ = checker.find_captions_skill(list_captions=dftest.caption, skill=sk)\n",
        "  dftestskill = dftest[dftest.caption.isin(capts)]\n",
        "  dftestskill.to_csv('Caption_testing_%s.tsv'%sk, sep='\\t', index=False)\n",
        "  files.download('Caption_testing_%s.tsv'%sk)"
      ],
      "metadata": {
        "id": "rudabD6QCqEr"
      },
      "execution_count": null,
      "outputs": []
    }
  ]
}