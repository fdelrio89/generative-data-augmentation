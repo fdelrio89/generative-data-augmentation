{
 "cells": [
  {
   "cell_type": "code",
   "execution_count": 1,
   "id": "blind-principle",
   "metadata": {},
   "outputs": [],
   "source": [
    "from collections import defaultdict\n",
    "import json\n",
    "import os\n",
    "import evaluate\n",
    "import pandas as pd\n",
    "\n",
    "import logging\n",
    "logger = logging.getLogger()\n",
    "logger.setLevel(logging.CRITICAL)"
   ]
  },
  {
   "cell_type": "code",
   "execution_count": 2,
   "id": "responsible-brother",
   "metadata": {},
   "outputs": [],
   "source": [
    "def get_image_id(composit_image_id):\n",
    "    composit_image_id = composit_image_id.split('_')\n",
    "    if len(composit_image_id) > 2:\n",
    "        image_id = composit_image_id[-2]\n",
    "    else:\n",
    "        image_id = composit_image_id[-1]\n",
    "    return image_id\n",
    "\n",
    "def get_split(composit_image_id):\n",
    "    composit_image_id = composit_image_id.split('_')\n",
    "    if len(composit_image_id) > 2:\n",
    "        composit_split = composit_image_id[:-2]\n",
    "    else:\n",
    "        composit_split = composit_image_id[:-1]\n",
    "    \n",
    "    split = '_'.join(composit_split)\n",
    "    return split\n",
    "\n",
    "def group_results(raw_results):\n",
    "    results = {}\n",
    "    for element in raw_results:\n",
    "        image_id = get_image_id(element['image_id'])\n",
    "        split = get_split(element['image_id'])\n",
    "        results[image_id] = element['caption']\n",
    "    return results"
   ]
  },
  {
   "cell_type": "code",
   "execution_count": 3,
   "id": "relevant-radical",
   "metadata": {},
   "outputs": [],
   "source": [
    "import re\n",
    "\n",
    "def pre_caption(caption, max_words=0):\n",
    "    caption = re.sub(\n",
    "        r\"([.!\\\"()*#:;~])\",\n",
    "        ' ',\n",
    "        caption.lower(),\n",
    "    )\n",
    "    caption = re.sub(\n",
    "        r\"\\s{2,}\",\n",
    "        ' ',\n",
    "        caption,\n",
    "    )\n",
    "    caption = caption.rstrip('\\n')\n",
    "    caption = caption.strip(' ')\n",
    "\n",
    "    #truncate caption\n",
    "    caption_words = caption.split(' ')\n",
    "    if max_words and len(caption_words)>max_words:\n",
    "        caption = ' '.join(caption_words[:max_words])\n",
    "\n",
    "    return caption\n",
    "\n",
    "def load_testsets(path_text_data, list_skills=None):\n",
    "    list_skills = list_skills if list_skills else []\n",
    "\n",
    "    test_datasets = {'all' : pd.read_csv(path_text_data + 'Caption_all.tsv', sep='\\t')}\n",
    "    test_datasets.update({\n",
    "        'test_%s' %skill : pd.read_csv(path_text_data + 'Caption_testing_%s.tsv'%skill, sep='\\t') \n",
    "        for skill in list_skills if os.path.isfile(path_text_data + 'Caption_testing_%s.tsv'%skill)})\n",
    "    test_datasets['test'] = test_datasets['all'][test_datasets['all'].split == 'test']\n",
    "    test_datasets['val'] = test_datasets['all'][test_datasets['all'].split == 'val']\n",
    "    del test_datasets['all']\n",
    "\n",
    "    for split, dataset in test_datasets.items():\n",
    "        dataset['caption'] = dataset['caption'].apply(pre_caption)\n",
    "        dataset['image_id'] = dataset['image_ID'].astype(str)\n",
    "\n",
    "    for split in test_datasets:\n",
    "        test_datasets[split] = test_datasets[split][['image_id','caption']]\n",
    "\n",
    "    return test_datasets\n",
    "\n",
    "def to_grouped_dict(dataset):\n",
    "    dict_dataset = dataset.to_dict(orient='records')\n",
    "    grouped_dataset = defaultdict(list)\n",
    "    for element in dict_dataset:\n",
    "        grouped_dataset[element['image_id']].append(element['caption'])\n",
    "\n",
    "    return grouped_dataset\n",
    "\n",
    "def build_lists_for_evaluation(results, test_dataset, return_image_id=True):\n",
    "    predictions = []\n",
    "    references = []\n",
    "    image_ids = list(test_dataset.keys())\n",
    "    for image_id in image_ids:\n",
    "        predictions.append(results[image_id])\n",
    "        references.append(test_dataset[image_id])\n",
    "    if return_image_id:\n",
    "        return image_ids, predictions, references\n",
    "    return predictions, references"
   ]
  },
  {
   "cell_type": "markdown",
   "id": "dominant-dealing",
   "metadata": {},
   "source": [
    "### Load Test Sets"
   ]
  },
  {
   "cell_type": "code",
   "execution_count": 4,
   "id": "bacterial-auction",
   "metadata": {},
   "outputs": [
    {
     "data": {
      "text/html": [
       "<div>\n",
       "<style scoped>\n",
       "    .dataframe tbody tr th:only-of-type {\n",
       "        vertical-align: middle;\n",
       "    }\n",
       "\n",
       "    .dataframe tbody tr th {\n",
       "        vertical-align: top;\n",
       "    }\n",
       "\n",
       "    .dataframe thead th {\n",
       "        text-align: right;\n",
       "    }\n",
       "</style>\n",
       "<table border=\"1\" class=\"dataframe\">\n",
       "  <thead>\n",
       "    <tr style=\"text-align: right;\">\n",
       "      <th></th>\n",
       "      <th>image_id</th>\n",
       "      <th>caption</th>\n",
       "    </tr>\n",
       "  </thead>\n",
       "  <tbody>\n",
       "    <tr>\n",
       "      <th>125</th>\n",
       "      <td>1007129816</td>\n",
       "      <td>the man with pierced ears is wearing glasses a...</td>\n",
       "    </tr>\n",
       "    <tr>\n",
       "      <th>126</th>\n",
       "      <td>1007129816</td>\n",
       "      <td>a man with glasses is wearing a beer can croch...</td>\n",
       "    </tr>\n",
       "    <tr>\n",
       "      <th>127</th>\n",
       "      <td>1007129816</td>\n",
       "      <td>a man with gauges and glasses is wearing a bli...</td>\n",
       "    </tr>\n",
       "    <tr>\n",
       "      <th>128</th>\n",
       "      <td>1007129816</td>\n",
       "      <td>a man in an orange hat starring at something</td>\n",
       "    </tr>\n",
       "    <tr>\n",
       "      <th>129</th>\n",
       "      <td>1007129816</td>\n",
       "      <td>a man wears an orange hat and glasses</td>\n",
       "    </tr>\n",
       "  </tbody>\n",
       "</table>\n",
       "</div>"
      ],
      "text/plain": [
       "       image_id                                            caption\n",
       "125  1007129816  the man with pierced ears is wearing glasses a...\n",
       "126  1007129816  a man with glasses is wearing a beer can croch...\n",
       "127  1007129816  a man with gauges and glasses is wearing a bli...\n",
       "128  1007129816       a man in an orange hat starring at something\n",
       "129  1007129816              a man wears an orange hat and glasses"
      ]
     },
     "execution_count": 4,
     "metadata": {},
     "output_type": "execute_result"
    }
   ],
   "source": [
    "path_text_data = './data/'\n",
    "list_skills = ['color', 'counting', 'gender']\n",
    "test_datasets_dfs = load_testsets(path_text_data, list_skills=list_skills)\n",
    "test_datasets_dfs['test'].head()"
   ]
  },
  {
   "cell_type": "code",
   "execution_count": 5,
   "id": "responsible-american",
   "metadata": {},
   "outputs": [
    {
     "data": {
      "text/plain": [
       "['test_color', 'test_counting', 'test_gender', 'test', 'val']"
      ]
     },
     "execution_count": 5,
     "metadata": {},
     "output_type": "execute_result"
    }
   ],
   "source": [
    "list(test_datasets_dfs.keys())"
   ]
  },
  {
   "cell_type": "code",
   "execution_count": 6,
   "id": "brave-effects",
   "metadata": {},
   "outputs": [],
   "source": [
    "test_datasets = {}\n",
    "for split in test_datasets_dfs:\n",
    "    test_datasets[split] = to_grouped_dict(test_datasets_dfs[split])"
   ]
  },
  {
   "cell_type": "code",
   "execution_count": 7,
   "id": "excellent-spine",
   "metadata": {},
   "outputs": [
    {
     "data": {
      "text/plain": [
       "(['1007129816', '1009434119', '101362133', '102617084', '10287332'],\n",
       " [['the man with pierced ears is wearing glasses and an orange hat',\n",
       "   'a man with glasses is wearing a beer can crocheted hat',\n",
       "   'a man with gauges and glasses is wearing a blitz hat',\n",
       "   'a man in an orange hat starring at something',\n",
       "   'a man wears an orange hat and glasses'],\n",
       "  ['a black and white dog is running in a grassy garden surrounded by a white fence',\n",
       "   'a boston terrier is running on lush green grass in front of a white fence',\n",
       "   'a black and white dog is running through the grass',\n",
       "   'a dog runs on the green grass near a wooden fence',\n",
       "   'a boston terrier is running in the grass'],\n",
       "  ['a young female student performing a downward kick to break a board held by her karate instructor',\n",
       "   'girl about to kick a piece of wood in half while karate instructor holds it',\n",
       "   'a girl kicking a stick that a man is holding in tae kwon do class',\n",
       "   'a girl in karate uniform breaking a stick with a front kick',\n",
       "   'a girl breaking boards by using karate'],\n",
       "  ['five snowmobile riders all wearing helmets and goggles line up in a snowy clearing in a forest in front of their snowmobiles they are all wearing black snow pants and from left to right they are wearing a black coat, white coat, red coat, blue coat, and black coat',\n",
       "   'five people wearing winter jackets and helmets stand in the snow, with snowmobiles in the background',\n",
       "   'five people wearing winter clothing, helmets, and ski goggles stand outside in the snow',\n",
       "   'a group of snowmobile riders gather in the snow',\n",
       "   'group gathered to go snowmobiling'],\n",
       "  ['two men sitting on the roof of a house while another one stands on a ladder',\n",
       "   'two men on a rooftop while another man stands atop a ladder watching them',\n",
       "   'three men, one on a ladder, work on a roof',\n",
       "   'people are fixing the roof of a house',\n",
       "   'three men are working on a roof']])"
      ]
     },
     "execution_count": 7,
     "metadata": {},
     "output_type": "execute_result"
    }
   ],
   "source": [
    "(list(test_datasets['test'].keys())[:5],\n",
    " list(test_datasets['test'].values())[:5])"
   ]
  },
  {
   "cell_type": "markdown",
   "id": "resident-organic",
   "metadata": {},
   "source": [
    "### Load Model Results"
   ]
  },
  {
   "cell_type": "code",
   "execution_count": 8,
   "id": "distributed-region",
   "metadata": {},
   "outputs": [],
   "source": [
    "from tqdm.auto import trange, tqdm\n",
    "from pathlib import Path\n",
    "from nltk.translate.meteor_score import meteor_score\n",
    "import numpy as np\n",
    "cap_metrics = evaluate.combine(['bleu', 'rouge'])\n",
    "\n",
    "def compute_metrics(predictions, references):\n",
    "    metrics = cap_metrics.compute(predictions=predictions, references=references)\n",
    "    for i in range(4):\n",
    "        metrics[f'bleu{i+1}'] = metrics['precisions'][i]\n",
    "    metrics['meteor'] = np.mean([meteor_score(hypothesis=p, references=rs) for p, rs in zip(predictions, references)])\n",
    "    return metrics\n",
    "\n",
    "def bold(text):\n",
    "    BOLD = '\\033[1m'\n",
    "    END = '\\033[0m'\n",
    "    return BOLD + text + END"
   ]
  },
  {
   "cell_type": "code",
   "execution_count": 10,
   "id": "secret-crack",
   "metadata": {},
   "outputs": [],
   "source": [
    "base_dir = 'BLIP/output/'\n",
    "results_dir = 'outputs/results'\n",
    "exp_names = [\n",
    "    str(dir_.stem) for dir_ in Path(base_dir).glob('*') if str(dir_.stem) not in ['saved_exps', '.gitignore']]"
   ]
  },
  {
   "cell_type": "code",
   "execution_count": 75,
   "id": "eight-resistance",
   "metadata": {},
   "outputs": [
    {
     "name": "stdout",
     "output_type": "stream",
     "text": [
      "Modelo Base                             : caption_base_flickr                     \n",
      "\n",
      "Modelo Andrés Color                     : caption_flickr_augmented_c              \n",
      "Modelo Andrés Counting                  : caption_flickr_augmented_counting       \n",
      "Modelo Andrés Gender                    : caption_augmented_flickr                \n",
      "Modelo Andrés Color + Gender            : caption_flickr_augmented_c+g            \n",
      "Modelo Andrés Color + Counting          : caption_flickr_augmented_color+counting \n",
      "Modelo Andrés Counting + Gender         : caption_flickr_augmented_counting+gender\n",
      "Modelo Andrés Color + Counting + Gender : caption_flickr_augmented_color+counting+\n",
      "\n",
      "Modelo Carlos Color                     : caption_flickr_inpaiting_color          \n",
      "Modelo Carlos Counting                  : caption_flickr_inpaiting_counting       \n",
      "Modelo Carlos Gender                    : caption_flickr_inpaiting_gender         \n",
      "Modelo Carlos Color + Gender            : caption_flickr_inpaiting_color+counting \n",
      "Modelo Carlos Color + Counting          : caption_flickr_inpaiting_color+gender   \n",
      "Modelo Carlos Counting + Gender         : caption_flickr_inpaiting_counting+gender\n",
      "Modelo Carlos Color + Counting + Gender : caption_flickr_inpaiting_color+counting+\n"
     ]
    }
   ],
   "source": [
    "print('{:40.40s}: {:40.40s}'.format('Modelo Base', 'caption_base_flickr'))\n",
    "print()\n",
    "print('{:40.40s}: {:40.40s}'.format('Modelo Andrés Color', 'caption_flickr_augmented_c'))\n",
    "print('{:40.40s}: {:40.40s}'.format('Modelo Andrés Counting', 'caption_flickr_augmented_counting'))\n",
    "print('{:40.40s}: {:40.40s}'.format('Modelo Andrés Gender', 'caption_augmented_flickr'))\n",
    "print('{:40.40s}: {:40.40s}'.format('Modelo Andrés Color + Gender', 'caption_flickr_augmented_c+g'))\n",
    "print('{:40.40s}: {:40.40s}'.format('Modelo Andrés Color + Counting', 'caption_flickr_augmented_color+counting'))\n",
    "print('{:40.40s}: {:40.40s}'.format('Modelo Andrés Counting + Gender', 'caption_flickr_augmented_counting+gender'))\n",
    "print('{:40.40s}: {:40.40s}'.format('Modelo Andrés Color + Counting + Gender', 'caption_flickr_augmented_color+counting+gender'))\n",
    "print()\n",
    "print('{:40.40s}: {:40.40s}'.format('Modelo Carlos Color', 'caption_flickr_inpaiting_color'))\n",
    "print('{:40.40s}: {:40.40s}'.format('Modelo Carlos Counting', 'caption_flickr_inpaiting_counting'))\n",
    "print('{:40.40s}: {:40.40s}'.format('Modelo Carlos Gender', 'caption_flickr_inpaiting_gender'))\n",
    "print('{:40.40s}: {:40.40s}'.format('Modelo Carlos Color + Gender', 'caption_flickr_inpaiting_color+counting'))\n",
    "print('{:40.40s}: {:40.40s}'.format('Modelo Carlos Color + Counting', 'caption_flickr_inpaiting_color+gender'))\n",
    "print('{:40.40s}: {:40.40s}'.format('Modelo Carlos Counting + Gender', 'caption_flickr_inpaiting_counting+gender'))\n",
    "print('{:40.40s}: {:40.40s}'.format('Modelo Carlos Color + Counting + Gender', 'caption_flickr_inpaiting_color+counting+gender'))"
   ]
  },
  {
   "cell_type": "code",
   "execution_count": null,
   "id": "editorial-colors",
   "metadata": {},
   "outputs": [],
   "source": []
  },
  {
   "cell_type": "code",
   "execution_count": 47,
   "id": "ultimate-wiring",
   "metadata": {},
   "outputs": [],
   "source": [
    "exp_name_base = 'caption_base_flickr'\n",
    "exp_name = 'caption_flickr_augmented_color+counting+gender'\n",
    "\n",
    "test_set_name = 'test_counting'"
   ]
  },
  {
   "cell_type": "code",
   "execution_count": null,
   "id": "protecting-analysis",
   "metadata": {},
   "outputs": [],
   "source": []
  },
  {
   "cell_type": "code",
   "execution_count": 48,
   "id": "innovative-thesaurus",
   "metadata": {},
   "outputs": [],
   "source": [
    "import json\n",
    "\n",
    "with open(f'{results_dir}/{exp_name_base}.json') as fp:\n",
    "    base_results = json.load(fp)\n",
    "    \n",
    "with open(f'{results_dir}/{exp_name}.json') as fp:\n",
    "    experiment_results = json.load(fp)"
   ]
  },
  {
   "cell_type": "code",
   "execution_count": 59,
   "id": "acquired-spectrum",
   "metadata": {},
   "outputs": [
    {
     "data": {
      "text/plain": [
       "(['test_color', 'test_counting', 'test_gender', 'test'],\n",
       " ['1007129816', '1009434119', '101362133', '102617084', '10287332'],\n",
       " {'prediction': 'a man wearing a hat made of beer bottles',\n",
       "  'references': ['the man with pierced ears is wearing glasses and an orange hat',\n",
       "   'a man with glasses is wearing a beer can crocheted hat',\n",
       "   'a man with gauges and glasses is wearing a blitz hat',\n",
       "   'a man in an orange hat starring at something',\n",
       "   'a man wears an orange hat and glasses'],\n",
       "  'metrics': {'bleu': 0.0,\n",
       "   'precisions': [0.6666666666666666, 0.25, 0.0, 0.0],\n",
       "   'brevity_penalty': 1.0,\n",
       "   'length_ratio': 1.125,\n",
       "   'translation_length': 9,\n",
       "   'reference_length': 8,\n",
       "   'rouge1': 0.6,\n",
       "   'rouge2': 0.22222222222222224,\n",
       "   'rougeL': 0.5,\n",
       "   'rougeLsum': 0.5}})"
      ]
     },
     "execution_count": 59,
     "metadata": {},
     "output_type": "execute_result"
    }
   ],
   "source": [
    "(list(base_results.keys()),\n",
    " list(base_results['test'].keys())[:5],\n",
    " base_results['test']['1007129816'][0])"
   ]
  },
  {
   "cell_type": "code",
   "execution_count": null,
   "id": "falling-belgium",
   "metadata": {},
   "outputs": [],
   "source": []
  },
  {
   "cell_type": "markdown",
   "id": "physical-oakland",
   "metadata": {},
   "source": [
    "### Order Elements by increas in bleu 4"
   ]
  },
  {
   "cell_type": "code",
   "execution_count": 62,
   "id": "graduate-objective",
   "metadata": {},
   "outputs": [],
   "source": [
    "base_results_for_test = base_results[test_set_name]\n",
    "results_for_test = experiment_results[test_set_name]\n",
    "\n",
    "bleu_4_fn = lambda r: r[0]['metrics']['precisions'][3]\n",
    "most_improved_fn = lambda iid: (bleu_4_fn(results_for_test[iid]) - bleu_4_fn(base_results_for_test[iid]))\n",
    "\n",
    "most_improved_ids = sorted(list(results_for_test.keys()), key=most_improved_fn, reverse=True)"
   ]
  },
  {
   "cell_type": "code",
   "execution_count": 71,
   "id": "binary-venue",
   "metadata": {},
   "outputs": [
    {
     "name": "stdout",
     "output_type": "stream",
     "text": [
      "Image Id  : 3246281818\n",
      "Bleu4 Diff: 0.571\n",
      "\n",
      "Image Id  : 12252043\n",
      "Bleu4 Diff: 0.556\n",
      "\n",
      "Image Id  : 6927762908\n",
      "Bleu4 Diff: 0.429\n",
      "\n",
      "Image Id  : 136693281\n",
      "Bleu4 Diff: 0.400\n",
      "\n",
      "Image Id  : 2268207503\n",
      "Bleu4 Diff: 0.400\n",
      "\n",
      "Image Id  : 509123893\n",
      "Bleu4 Diff: 0.400\n",
      "\n",
      "Image Id  : 2169788484\n",
      "Bleu4 Diff: 0.385\n",
      "\n",
      "Image Id  : 2830561413\n",
      "Bleu4 Diff: 0.333\n",
      "\n",
      "Image Id  : 5829317322\n",
      "Bleu4 Diff: 0.273\n",
      "\n",
      "Image Id  : 6489895665\n",
      "Bleu4 Diff: 0.273\n",
      "\n"
     ]
    }
   ],
   "source": [
    "for iid in most_improved_ids[:10]:\n",
    "    print('Image Id  :', iid)\n",
    "    print('Bleu4 Diff: {:.3f}'.format(most_improved_fn(iid)), end='\\n\\n')"
   ]
  },
  {
   "cell_type": "code",
   "execution_count": null,
   "id": "printable-tuning",
   "metadata": {},
   "outputs": [],
   "source": []
  },
  {
   "cell_type": "code",
   "execution_count": null,
   "id": "preceding-consultation",
   "metadata": {},
   "outputs": [],
   "source": [
    "from IPython.display import Image\n",
    "\n",
    "index_to_inspect = 0"
   ]
  },
  {
   "cell_type": "code",
   "execution_count": 17,
   "id": "therapeutic-nevada",
   "metadata": {
    "scrolled": false
   },
   "outputs": [
    {
     "name": "stdout",
     "output_type": "stream",
     "text": [
      "\u001b[1mprediction\u001b[0m (0.00): a black dog and two white dogs in the snow\n",
      "\u001b[1mbase\u001b[0m       (0.50): four dogs are standing in the snow\n",
      "\n",
      "\u001b[1mreferences:\u001b[0m\n",
      "two large black dogs, one small black dog, and one large white dog are standing in some snow\n",
      "two black dogs, a black puppy, and a white dog in the snow\n",
      "three black dogs and a white dog are standing in the snow\n",
      "four dogs stand in the snow\n"
     ]
    },
    {
     "data": {
      "image/jpeg": "[encoded data removed]",
      "text/plain": [
       "<IPython.core.display.Image object>"
      ]
     },
     "execution_count": 17,
     "metadata": {},
     "output_type": "execute_result"
    }
   ],
   "source": [
    "image_id = most_improved_ids[index_to_inspect]\n",
    "\n",
    "prediction = results_for_test[image_id][0]\n",
    "base_prediction = base_results_for_test[image_id][0]\n",
    "\n",
    "from IPython.display import Image\n",
    "\n",
    "print(f'{bold(\"prediction\")} ({prediction[\"metrics\"][\"precisions\"][3]:.2f}): {prediction[\"prediction\"]}')\n",
    "print(f'{bold(\"base\")}       ({base_prediction[\"metrics\"][\"precisions\"][3]:.2f}): {base_prediction[\"prediction\"]}')\n",
    "\n",
    "print('\\n' + bold('references:'))\n",
    "print('\\n'.join(prediction['references']))\n",
    "\n",
    "Image(filename=f'/workspace1/fidelrio/flickr30k/imgs/{image_id}.jpg') "
   ]
  },
  {
   "cell_type": "code",
   "execution_count": null,
   "id": "later-franchise",
   "metadata": {},
   "outputs": [],
   "source": []
  },
  {
   "cell_type": "code",
   "execution_count": null,
   "id": "surprised-tenant",
   "metadata": {},
   "outputs": [],
   "source": []
  },
  {
   "cell_type": "markdown",
   "id": "computational-specification",
   "metadata": {},
   "source": [
    "### Sample Better than baseline predictions"
   ]
  },
  {
   "cell_type": "code",
   "execution_count": 72,
   "id": "regulated-norman",
   "metadata": {},
   "outputs": [
    {
     "data": {
      "text/plain": [
       "('4954827712',\n",
       " '3970114165',\n",
       " '405556084',\n",
       " '273603643',\n",
       " '4817447781',\n",
       " '4664359066',\n",
       " '2511798599',\n",
       " '3246281818',\n",
       " '2830561413',\n",
       " '3701291852',\n",
       " '464340358',\n",
       " '5501939468',\n",
       " '77587237',\n",
       " '3715669736',\n",
       " '2565302802',\n",
       " '16626851',\n",
       " '5730226613',\n",
       " '110671448',\n",
       " '3086526292',\n",
       " '2724485630')"
      ]
     },
     "execution_count": 72,
     "metadata": {},
     "output_type": "execute_result"
    }
   ],
   "source": [
    "import random\n",
    "sampled = random.sample(list(\n",
    "    filter(lambda x: x[1] > 0, map(lambda x: (x, most_improved_fn(x)), results_for_test.keys()))), k=20)\n",
    "sampled_image_ids, _ = zip(*sampled)\n",
    "\n",
    "sampled_image_ids"
   ]
  },
  {
   "cell_type": "code",
   "execution_count": null,
   "id": "scenic-kidney",
   "metadata": {},
   "outputs": [],
   "source": []
  },
  {
   "cell_type": "code",
   "execution_count": 73,
   "id": "driving-alert",
   "metadata": {},
   "outputs": [],
   "source": [
    "index_to_inspect = 0"
   ]
  },
  {
   "cell_type": "code",
   "execution_count": 74,
   "id": "sought-wallet",
   "metadata": {
    "scrolled": false
   },
   "outputs": [
    {
     "name": "stdout",
     "output_type": "stream",
     "text": [
      "\u001b[1mprediction\u001b[0m (0.20): two people are walking in the dirt in front of a large building\n",
      "\u001b[1mbase\u001b[0m       (0.11): a group of people are walking in front of a large building\n",
      "\n",
      "\u001b[1mreferences:\u001b[0m\n",
      "two people walking on dirt in front of a very large building\n",
      "two women are walking in dirt outside a large building\n"
     ]
    },
    {
     "data": {
      "image/jpeg": "[encoded data removed]",
      "text/plain": [
       "<IPython.core.display.Image object>"
      ]
     },
     "execution_count": 74,
     "metadata": {},
     "output_type": "execute_result"
    }
   ],
   "source": [
    "image_id = sampled_image_ids[index_to_inspect]\n",
    "\n",
    "prediction = results_for_test[image_id][0]\n",
    "base_prediction = base_results_for_test[image_id][0]\n",
    "\n",
    "print(f'{bold(\"prediction\")} ({prediction[\"metrics\"][\"precisions\"][3]:.2f}): {prediction[\"prediction\"]}')\n",
    "print(f'{bold(\"base\")}       ({base_prediction[\"metrics\"][\"precisions\"][3]:.2f}): {base_prediction[\"prediction\"]}')\n",
    "\n",
    "print('\\n' + bold('references:'))\n",
    "print('\\n'.join(prediction['references']))\n",
    "\n",
    "index_to_inspect += 1 \n",
    "\n",
    "Image(filename=f'/workspace1/fidelrio/flickr30k/imgs/{image_id}.jpg') "
   ]
  },
  {
   "cell_type": "code",
   "execution_count": null,
   "id": "verified-canal",
   "metadata": {},
   "outputs": [],
   "source": []
  },
  {
   "cell_type": "code",
   "execution_count": null,
   "id": "tender-declaration",
   "metadata": {},
   "outputs": [],
   "source": []
  },
  {
   "cell_type": "code",
   "execution_count": null,
   "id": "confident-peoples",
   "metadata": {},
   "outputs": [],
   "source": []
  },
  {
   "cell_type": "code",
   "execution_count": null,
   "id": "assigned-aggregate",
   "metadata": {},
   "outputs": [],
   "source": []
  },
  {
   "cell_type": "code",
   "execution_count": null,
   "id": "hired-inspiration",
   "metadata": {},
   "outputs": [],
   "source": []
  },
  {
   "cell_type": "code",
   "execution_count": null,
   "id": "offshore-glance",
   "metadata": {},
   "outputs": [],
   "source": []
  },
  {
   "cell_type": "code",
   "execution_count": null,
   "id": "pretty-writing",
   "metadata": {},
   "outputs": [],
   "source": []
  },
  {
   "cell_type": "code",
   "execution_count": null,
   "id": "dependent-fraction",
   "metadata": {},
   "outputs": [],
   "source": []
  },
  {
   "cell_type": "code",
   "execution_count": null,
   "id": "employed-antenna",
   "metadata": {},
   "outputs": [],
   "source": []
  },
  {
   "cell_type": "code",
   "execution_count": null,
   "id": "green-combination",
   "metadata": {},
   "outputs": [],
   "source": []
  }
 ],
 "metadata": {
  "kernelspec": {
   "display_name": "Python 3",
   "language": "python",
   "name": "python3"
  },
  "language_info": {
   "codemirror_mode": {
    "name": "ipython",
    "version": 3
   },
   "file_extension": ".py",
   "mimetype": "text/x-python",
   "name": "python",
   "nbconvert_exporter": "python",
   "pygments_lexer": "ipython3",
   "version": "3.7.5"
  }
 },
 "nbformat": 4,
 "nbformat_minor": 5
}
